{
 "cells": [
  {
   "cell_type": "code",
   "execution_count": 1,
   "id": "974777f0-b71b-4fbc-801d-28bd141dc6d0",
   "metadata": {},
   "outputs": [
    {
     "name": "stderr",
     "output_type": "stream",
     "text": [
      "2024-04-28 15:34:14.287134: E tensorflow/compiler/xla/stream_executor/cuda/cuda_dnn.cc:9342] Unable to register cuDNN factory: Attempting to register factory for plugin cuDNN when one has already been registered\n",
      "2024-04-28 15:34:14.287175: E tensorflow/compiler/xla/stream_executor/cuda/cuda_fft.cc:609] Unable to register cuFFT factory: Attempting to register factory for plugin cuFFT when one has already been registered\n",
      "2024-04-28 15:34:14.287189: E tensorflow/compiler/xla/stream_executor/cuda/cuda_blas.cc:1518] Unable to register cuBLAS factory: Attempting to register factory for plugin cuBLAS when one has already been registered\n",
      "2024-04-28 15:34:14.291351: I tensorflow/core/platform/cpu_feature_guard.cc:182] This TensorFlow binary is optimized to use available CPU instructions in performance-critical operations.\n",
      "To enable the following instructions: AVX2 FMA, in other operations, rebuild TensorFlow with the appropriate compiler flags.\n",
      "2024-04-28 15:34:15.367081: I tensorflow/compiler/xla/stream_executor/cuda/cuda_gpu_executor.cc:894] successful NUMA node read from SysFS had negative value (-1), but there must be at least one NUMA node, so returning NUMA node zero. See more at https://github.com/torvalds/linux/blob/v6.0/Documentation/ABI/testing/sysfs-bus-pci#L344-L355\n",
      "2024-04-28 15:34:15.368295: I tensorflow/compiler/xla/stream_executor/cuda/cuda_gpu_executor.cc:894] successful NUMA node read from SysFS had negative value (-1), but there must be at least one NUMA node, so returning NUMA node zero. See more at https://github.com/torvalds/linux/blob/v6.0/Documentation/ABI/testing/sysfs-bus-pci#L344-L355\n",
      "2024-04-28 15:34:15.368472: I tensorflow/compiler/xla/stream_executor/cuda/cuda_gpu_executor.cc:894] successful NUMA node read from SysFS had negative value (-1), but there must be at least one NUMA node, so returning NUMA node zero. See more at https://github.com/torvalds/linux/blob/v6.0/Documentation/ABI/testing/sysfs-bus-pci#L344-L355\n"
     ]
    },
    {
     "data": {
      "text/plain": [
       "[PhysicalDevice(name='/physical_device:CPU:0', device_type='CPU'),\n",
       " PhysicalDevice(name='/physical_device:GPU:0', device_type='GPU')]"
      ]
     },
     "execution_count": 1,
     "metadata": {},
     "output_type": "execute_result"
    }
   ],
   "source": [
    "import torch\n",
    "import tensorflow as tf\n",
    "tf.config.get_visible_devices()"
   ]
  },
  {
   "cell_type": "code",
   "execution_count": 2,
   "id": "481eea9d-8bae-4b65-91b4-6a736242bbcf",
   "metadata": {},
   "outputs": [],
   "source": [
    "import numpy as np\n",
    "import pandas as pd\n",
    "import os, time, re\n",
    "import pickle, gzip, datetime\n",
    "\n",
    "from datetime import datetime\n",
    "\n",
    "now = datetime.now()\n",
    "\n",
    "import matplotlib.pyplot as plt\n",
    "import seaborn as sns\n",
    "color = sns.color_palette()\n",
    "import matplotlib as mpl\n",
    "%matplotlib inline\n",
    "\n",
    "\n",
    "from sklearn import preprocessing as pp\n",
    "from sklearn.model_selection import train_test_split\n",
    "from sklearn.model_selection import StratifiedKFold\n",
    "from sklearn.metrics import log_loss\n",
    "from sklearn.metrics import precision_recall_curve, average_precision_score\n",
    "from sklearn.metrics import roc_curve, auc, roc_auc_score, mean_squared_error\n",
    "import lightgbm as lgb\n",
    "\n",
    "import tensorflow as tf\n",
    "import keras\n",
    "\n",
    "from tensorflow.keras.models import Sequential, Model\n",
    "from tensorflow.keras.layers import Activation, Dense, Dropout\n",
    "from tensorflow.keras.layers import BatchNormalization, Input, Lambda\n",
    "from tensorflow.keras.layers import Embedding, Flatten, dot\n",
    "from tensorflow.keras import regularizers\n",
    "from tensorflow.keras.losses import mse, binary_crossentropy"
   ]
  },
  {
   "cell_type": "code",
   "execution_count": 3,
   "id": "aa800aab-d392-4b02-a731-7c64f91f997f",
   "metadata": {},
   "outputs": [
    {
     "name": "stderr",
     "output_type": "stream",
     "text": [
      "/tmp/ipykernel_289350/379272165.py:19: ParserWarning: Falling back to the 'python' engine because the 'c' engine does not support regex separators (separators > 1 char and different from '\\s+' are interpreted as regex); you can avoid this warning by specifying engine='python'.\n",
      "  reviews_df  = pd.read_csv(path,sep='::',header=None)\n",
      "/tmp/ipykernel_289350/379272165.py:35: ParserWarning: Falling back to the 'python' engine because the 'c' engine does not support regex separators (separators > 1 char and different from '\\s+' are interpreted as regex); you can avoid this warning by specifying engine='python'.\n",
      "  meta_df  = pd.read_csv(path,sep='::',header=None)\n"
     ]
    },
    {
     "name": "stdout",
     "output_type": "stream",
     "text": [
      "user_count: 69878\titem_count: 10681\tcate_count: 20\texample_count: 10000054\n"
     ]
    }
   ],
   "source": [
    "#!/usr/bin/env python\n",
    "# coding: utf-8\n",
    "\"\"\"\n",
    "This is a example of MAG generation and data processing on the MovieLens dataset.\n",
    "\"\"\"\n",
    "\n",
    "import numpy as np\n",
    "import csv\n",
    "import pandas as pd\n",
    "import random\n",
    "import pickle\n",
    "import copy\n",
    "from scipy.sparse import csr_matrix\n",
    "\n",
    "np.random.seed(2023)\n",
    "random.seed(2023)\n",
    "\n",
    "path = 'ratings.dat'\n",
    "reviews_df  = pd.read_csv(path,sep='::',header=None)\n",
    "reviews_df.columns = ['user_id','item_id','rating','timestamp']\n",
    "# reviews_df.loc[:,'rating'] = reviews_df['rating'].map(lambda x: 1 if x >= 4 else 0)\n",
    "\n",
    "# reindex of the IDs\n",
    "def build_map(df, col_name):\n",
    "    key = sorted(df[col_name].unique().tolist())\n",
    "    m = dict(zip(key, range(1,len(key)+1)))\n",
    "    df.loc[:,col_name] = df[col_name].map(lambda x: m[x])\n",
    "    return m, key\n",
    "\n",
    "\n",
    "uid_map, uid_key = build_map(reviews_df, 'user_id')\n",
    "\n",
    "\n",
    "path = 'movies.dat'\n",
    "meta_df  = pd.read_csv(path,sep='::',header=None)\n",
    "meta_df.columns = ['item_id','title','genres']\n",
    "meta_df = meta_df[['item_id', 'genres']]\n",
    "meta_df.loc[:,'genres'] = meta_df['genres'].map(lambda x: x.split('|')[0])\n",
    "\n",
    "vid_map, vid_key = build_map(meta_df, 'item_id')\n",
    "cat_map, cat_key = build_map(meta_df, 'genres')\n",
    "\n",
    "user_count, item_count, cate_count, example_count =    len(uid_map), len(vid_map), len(cat_map), reviews_df.shape[0]\n",
    "print('user_count: %d\\titem_count: %d\\tcate_count: %d\\texample_count: %d' %\n",
    "      (user_count, item_count, cate_count, example_count))\n",
    "\n",
    "meta_df = meta_df.sort_values('item_id')\n",
    "meta_df = meta_df.reset_index(drop=True)\n",
    "\n",
    "reviews_df['item_id'] = reviews_df['item_id'].map(lambda x: vid_map[x])\n",
    "reviews_df = reviews_df.sort_values(['user_id', 'timestamp'])\n",
    "reviews_df = reviews_df.reset_index(drop=True)\n",
    "\n",
    "cate_list = [meta_df['genres'][i] for i in range(len(vid_map))]\n",
    "cate_list = np.array(cate_list, dtype=np.int32)\n",
    "\n",
    "cate_list = np.insert(cate_list, 0, 0)\n",
    "\n",
    "with open('remap.pkl', 'wb') as f:\n",
    "    pickle.dump(reviews_df, f, pickle.HIGHEST_PROTOCOL) # uid, iid, time(sorted)\n",
    "    pickle.dump(cate_list, f, pickle.HIGHEST_PROTOCOL) # cid of iid line\n",
    "    pickle.dump((user_count, item_count, cate_count, example_count),\n",
    "              f, pickle.HIGHEST_PROTOCOL)\n",
    "    pickle.dump((vid_key, cat_key, uid_key), f, pickle.HIGHEST_PROTOCOL)\n"
   ]
  },
  {
   "cell_type": "code",
   "execution_count": 4,
   "id": "e3c2a69f-7fcb-4c35-977c-50bae53bee37",
   "metadata": {},
   "outputs": [
    {
     "data": {
      "text/html": [
       "<div>\n",
       "<style scoped>\n",
       "    .dataframe tbody tr th:only-of-type {\n",
       "        vertical-align: middle;\n",
       "    }\n",
       "\n",
       "    .dataframe tbody tr th {\n",
       "        vertical-align: top;\n",
       "    }\n",
       "\n",
       "    .dataframe thead th {\n",
       "        text-align: right;\n",
       "    }\n",
       "</style>\n",
       "<table border=\"1\" class=\"dataframe\">\n",
       "  <thead>\n",
       "    <tr style=\"text-align: right;\">\n",
       "      <th></th>\n",
       "      <th>user_id</th>\n",
       "      <th>item_id</th>\n",
       "      <th>rating</th>\n",
       "      <th>timestamp</th>\n",
       "    </tr>\n",
       "  </thead>\n",
       "  <tbody>\n",
       "    <tr>\n",
       "      <th>0</th>\n",
       "      <td>1</td>\n",
       "      <td>583</td>\n",
       "      <td>5.0</td>\n",
       "      <td>838983339</td>\n",
       "    </tr>\n",
       "    <tr>\n",
       "      <th>1</th>\n",
       "      <td>1</td>\n",
       "      <td>229</td>\n",
       "      <td>5.0</td>\n",
       "      <td>838983392</td>\n",
       "    </tr>\n",
       "    <tr>\n",
       "      <th>2</th>\n",
       "      <td>1</td>\n",
       "      <td>314</td>\n",
       "      <td>5.0</td>\n",
       "      <td>838983392</td>\n",
       "    </tr>\n",
       "    <tr>\n",
       "      <th>3</th>\n",
       "      <td>1</td>\n",
       "      <td>326</td>\n",
       "      <td>5.0</td>\n",
       "      <td>838983392</td>\n",
       "    </tr>\n",
       "    <tr>\n",
       "      <th>4</th>\n",
       "      <td>1</td>\n",
       "      <td>290</td>\n",
       "      <td>5.0</td>\n",
       "      <td>838983421</td>\n",
       "    </tr>\n",
       "    <tr>\n",
       "      <th>...</th>\n",
       "      <td>...</td>\n",
       "      <td>...</td>\n",
       "      <td>...</td>\n",
       "      <td>...</td>\n",
       "    </tr>\n",
       "    <tr>\n",
       "      <th>10000049</th>\n",
       "      <td>69878</td>\n",
       "      <td>1753</td>\n",
       "      <td>3.0</td>\n",
       "      <td>912649171</td>\n",
       "    </tr>\n",
       "    <tr>\n",
       "      <th>10000050</th>\n",
       "      <td>69878</td>\n",
       "      <td>258</td>\n",
       "      <td>5.0</td>\n",
       "      <td>912649271</td>\n",
       "    </tr>\n",
       "    <tr>\n",
       "      <th>10000051</th>\n",
       "      <td>69878</td>\n",
       "      <td>1662</td>\n",
       "      <td>4.0</td>\n",
       "      <td>912649271</td>\n",
       "    </tr>\n",
       "    <tr>\n",
       "      <th>10000052</th>\n",
       "      <td>69878</td>\n",
       "      <td>882</td>\n",
       "      <td>4.0</td>\n",
       "      <td>912649403</td>\n",
       "    </tr>\n",
       "    <tr>\n",
       "      <th>10000053</th>\n",
       "      <td>69878</td>\n",
       "      <td>1172</td>\n",
       "      <td>4.0</td>\n",
       "      <td>912649434</td>\n",
       "    </tr>\n",
       "  </tbody>\n",
       "</table>\n",
       "<p>10000054 rows × 4 columns</p>\n",
       "</div>"
      ],
      "text/plain": [
       "          user_id  item_id  rating  timestamp\n",
       "0               1      583     5.0  838983339\n",
       "1               1      229     5.0  838983392\n",
       "2               1      314     5.0  838983392\n",
       "3               1      326     5.0  838983392\n",
       "4               1      290     5.0  838983421\n",
       "...           ...      ...     ...        ...\n",
       "10000049    69878     1753     3.0  912649171\n",
       "10000050    69878      258     5.0  912649271\n",
       "10000051    69878     1662     4.0  912649271\n",
       "10000052    69878      882     4.0  912649403\n",
       "10000053    69878     1172     4.0  912649434\n",
       "\n",
       "[10000054 rows x 4 columns]"
      ]
     },
     "execution_count": 4,
     "metadata": {},
     "output_type": "execute_result"
    }
   ],
   "source": [
    "reviews_df"
   ]
  },
  {
   "cell_type": "code",
   "execution_count": 5,
   "id": "305cb9d2-b9cd-4646-a3de-76340a215503",
   "metadata": {},
   "outputs": [
    {
     "name": "stdout",
     "output_type": "stream",
     "text": [
      "Split Correct!\n"
     ]
    }
   ],
   "source": [
    "\n",
    "pos_cnt, neg_cnt = 0, 0\n",
    "for userId, hist in reviews_df.groupby('user_id'):\n",
    "    movie_list = hist['item_id'].tolist()\n",
    "    label_list = hist['rating'].tolist()\n",
    "\n",
    "    pos_cnt += sum(label_list)\n",
    "    neg_cnt += len(label_list) - sum(label_list)\n",
    "    \n",
    "train_hist_time, test_time = list(np.quantile(reviews_df.timestamp, [0.80, 0.90]))\n",
    "train_df = reviews_df[reviews_df.timestamp <= test_time]\n",
    "test_df = reviews_df[reviews_df.timestamp > test_time]\n",
    "\n",
    "if train_df.shape[0]+test_df.shape[0] == reviews_df.shape[0]:\n",
    "    print(\"Split Correct!\")\n",
    "else:\n",
    "    print(\"Split Error!\")"
   ]
  },
  {
   "cell_type": "code",
   "execution_count": 6,
   "id": "92131ca0-fd7c-4ae6-a81e-4ef11f79b1d0",
   "metadata": {},
   "outputs": [
    {
     "data": {
      "text/html": [
       "<div>\n",
       "<style scoped>\n",
       "    .dataframe tbody tr th:only-of-type {\n",
       "        vertical-align: middle;\n",
       "    }\n",
       "\n",
       "    .dataframe tbody tr th {\n",
       "        vertical-align: top;\n",
       "    }\n",
       "\n",
       "    .dataframe thead th {\n",
       "        text-align: right;\n",
       "    }\n",
       "</style>\n",
       "<table border=\"1\" class=\"dataframe\">\n",
       "  <thead>\n",
       "    <tr style=\"text-align: right;\">\n",
       "      <th></th>\n",
       "      <th>user_id</th>\n",
       "      <th>item_id</th>\n",
       "      <th>rating</th>\n",
       "      <th>timestamp</th>\n",
       "    </tr>\n",
       "  </thead>\n",
       "  <tbody>\n",
       "    <tr>\n",
       "      <th>0</th>\n",
       "      <td>1</td>\n",
       "      <td>583</td>\n",
       "      <td>5.0</td>\n",
       "      <td>838983339</td>\n",
       "    </tr>\n",
       "    <tr>\n",
       "      <th>1</th>\n",
       "      <td>1</td>\n",
       "      <td>229</td>\n",
       "      <td>5.0</td>\n",
       "      <td>838983392</td>\n",
       "    </tr>\n",
       "    <tr>\n",
       "      <th>2</th>\n",
       "      <td>1</td>\n",
       "      <td>314</td>\n",
       "      <td>5.0</td>\n",
       "      <td>838983392</td>\n",
       "    </tr>\n",
       "    <tr>\n",
       "      <th>3</th>\n",
       "      <td>1</td>\n",
       "      <td>326</td>\n",
       "      <td>5.0</td>\n",
       "      <td>838983392</td>\n",
       "    </tr>\n",
       "    <tr>\n",
       "      <th>4</th>\n",
       "      <td>1</td>\n",
       "      <td>290</td>\n",
       "      <td>5.0</td>\n",
       "      <td>838983421</td>\n",
       "    </tr>\n",
       "    <tr>\n",
       "      <th>...</th>\n",
       "      <td>...</td>\n",
       "      <td>...</td>\n",
       "      <td>...</td>\n",
       "      <td>...</td>\n",
       "    </tr>\n",
       "    <tr>\n",
       "      <th>10000049</th>\n",
       "      <td>69878</td>\n",
       "      <td>1753</td>\n",
       "      <td>3.0</td>\n",
       "      <td>912649171</td>\n",
       "    </tr>\n",
       "    <tr>\n",
       "      <th>10000050</th>\n",
       "      <td>69878</td>\n",
       "      <td>258</td>\n",
       "      <td>5.0</td>\n",
       "      <td>912649271</td>\n",
       "    </tr>\n",
       "    <tr>\n",
       "      <th>10000051</th>\n",
       "      <td>69878</td>\n",
       "      <td>1662</td>\n",
       "      <td>4.0</td>\n",
       "      <td>912649271</td>\n",
       "    </tr>\n",
       "    <tr>\n",
       "      <th>10000052</th>\n",
       "      <td>69878</td>\n",
       "      <td>882</td>\n",
       "      <td>4.0</td>\n",
       "      <td>912649403</td>\n",
       "    </tr>\n",
       "    <tr>\n",
       "      <th>10000053</th>\n",
       "      <td>69878</td>\n",
       "      <td>1172</td>\n",
       "      <td>4.0</td>\n",
       "      <td>912649434</td>\n",
       "    </tr>\n",
       "  </tbody>\n",
       "</table>\n",
       "<p>9000048 rows × 4 columns</p>\n",
       "</div>"
      ],
      "text/plain": [
       "          user_id  item_id  rating  timestamp\n",
       "0               1      583     5.0  838983339\n",
       "1               1      229     5.0  838983392\n",
       "2               1      314     5.0  838983392\n",
       "3               1      326     5.0  838983392\n",
       "4               1      290     5.0  838983421\n",
       "...           ...      ...     ...        ...\n",
       "10000049    69878     1753     3.0  912649171\n",
       "10000050    69878      258     5.0  912649271\n",
       "10000051    69878     1662     4.0  912649271\n",
       "10000052    69878      882     4.0  912649403\n",
       "10000053    69878     1172     4.0  912649434\n",
       "\n",
       "[9000048 rows x 4 columns]"
      ]
     },
     "execution_count": 6,
     "metadata": {},
     "output_type": "execute_result"
    }
   ],
   "source": [
    "train_df"
   ]
  },
  {
   "cell_type": "code",
   "execution_count": 7,
   "id": "fe53f00b-1714-4af1-8876-5277d7361774",
   "metadata": {},
   "outputs": [
    {
     "data": {
      "text/html": [
       "<div>\n",
       "<style scoped>\n",
       "    .dataframe tbody tr th:only-of-type {\n",
       "        vertical-align: middle;\n",
       "    }\n",
       "\n",
       "    .dataframe tbody tr th {\n",
       "        vertical-align: top;\n",
       "    }\n",
       "\n",
       "    .dataframe thead th {\n",
       "        text-align: right;\n",
       "    }\n",
       "</style>\n",
       "<table border=\"1\" class=\"dataframe\">\n",
       "  <thead>\n",
       "    <tr style=\"text-align: right;\">\n",
       "      <th></th>\n",
       "      <th>user_id</th>\n",
       "      <th>item_id</th>\n",
       "      <th>rating</th>\n",
       "      <th>timestamp</th>\n",
       "    </tr>\n",
       "  </thead>\n",
       "  <tbody>\n",
       "    <tr>\n",
       "      <th>4425</th>\n",
       "      <td>32</td>\n",
       "      <td>5254</td>\n",
       "      <td>4.0</td>\n",
       "      <td>1208669626</td>\n",
       "    </tr>\n",
       "    <tr>\n",
       "      <th>4426</th>\n",
       "      <td>32</td>\n",
       "      <td>9707</td>\n",
       "      <td>2.0</td>\n",
       "      <td>1208669698</td>\n",
       "    </tr>\n",
       "    <tr>\n",
       "      <th>4427</th>\n",
       "      <td>32</td>\n",
       "      <td>3477</td>\n",
       "      <td>4.5</td>\n",
       "      <td>1208669735</td>\n",
       "    </tr>\n",
       "    <tr>\n",
       "      <th>4428</th>\n",
       "      <td>32</td>\n",
       "      <td>1662</td>\n",
       "      <td>3.0</td>\n",
       "      <td>1208669755</td>\n",
       "    </tr>\n",
       "    <tr>\n",
       "      <th>4429</th>\n",
       "      <td>32</td>\n",
       "      <td>641</td>\n",
       "      <td>3.0</td>\n",
       "      <td>1208669784</td>\n",
       "    </tr>\n",
       "    <tr>\n",
       "      <th>...</th>\n",
       "      <td>...</td>\n",
       "      <td>...</td>\n",
       "      <td>...</td>\n",
       "      <td>...</td>\n",
       "    </tr>\n",
       "    <tr>\n",
       "      <th>9999654</th>\n",
       "      <td>69873</td>\n",
       "      <td>2123</td>\n",
       "      <td>4.0</td>\n",
       "      <td>1216573669</td>\n",
       "    </tr>\n",
       "    <tr>\n",
       "      <th>9999655</th>\n",
       "      <td>69873</td>\n",
       "      <td>2097</td>\n",
       "      <td>4.0</td>\n",
       "      <td>1216573677</td>\n",
       "    </tr>\n",
       "    <tr>\n",
       "      <th>9999656</th>\n",
       "      <td>69873</td>\n",
       "      <td>2101</td>\n",
       "      <td>4.5</td>\n",
       "      <td>1216573680</td>\n",
       "    </tr>\n",
       "    <tr>\n",
       "      <th>9999657</th>\n",
       "      <td>69873</td>\n",
       "      <td>3283</td>\n",
       "      <td>5.0</td>\n",
       "      <td>1216575007</td>\n",
       "    </tr>\n",
       "    <tr>\n",
       "      <th>9999658</th>\n",
       "      <td>69873</td>\n",
       "      <td>10663</td>\n",
       "      <td>1.0</td>\n",
       "      <td>1230356073</td>\n",
       "    </tr>\n",
       "  </tbody>\n",
       "</table>\n",
       "<p>1000006 rows × 4 columns</p>\n",
       "</div>"
      ],
      "text/plain": [
       "         user_id  item_id  rating   timestamp\n",
       "4425          32     5254     4.0  1208669626\n",
       "4426          32     9707     2.0  1208669698\n",
       "4427          32     3477     4.5  1208669735\n",
       "4428          32     1662     3.0  1208669755\n",
       "4429          32      641     3.0  1208669784\n",
       "...          ...      ...     ...         ...\n",
       "9999654    69873     2123     4.0  1216573669\n",
       "9999655    69873     2097     4.0  1216573677\n",
       "9999656    69873     2101     4.5  1216573680\n",
       "9999657    69873     3283     5.0  1216575007\n",
       "9999658    69873    10663     1.0  1230356073\n",
       "\n",
       "[1000006 rows x 4 columns]"
      ]
     },
     "execution_count": 7,
     "metadata": {},
     "output_type": "execute_result"
    }
   ],
   "source": [
    "test_df"
   ]
  },
  {
   "cell_type": "code",
   "execution_count": 8,
   "id": "9805341f-66d7-441d-9453-db5fdc42f458",
   "metadata": {},
   "outputs": [],
   "source": [
    "train_eval_df = reviews_df[(reviews_df.timestamp > train_hist_time) & (reviews_df.timestamp <= test_time)]"
   ]
  },
  {
   "cell_type": "code",
   "execution_count": 9,
   "id": "9fc4ff51-97a3-473c-8944-649b6af71c14",
   "metadata": {},
   "outputs": [
    {
     "data": {
      "text/html": [
       "<div>\n",
       "<style scoped>\n",
       "    .dataframe tbody tr th:only-of-type {\n",
       "        vertical-align: middle;\n",
       "    }\n",
       "\n",
       "    .dataframe tbody tr th {\n",
       "        vertical-align: top;\n",
       "    }\n",
       "\n",
       "    .dataframe thead th {\n",
       "        text-align: right;\n",
       "    }\n",
       "</style>\n",
       "<table border=\"1\" class=\"dataframe\">\n",
       "  <thead>\n",
       "    <tr style=\"text-align: right;\">\n",
       "      <th></th>\n",
       "      <th>user_id</th>\n",
       "      <th>item_id</th>\n",
       "      <th>rating</th>\n",
       "      <th>timestamp</th>\n",
       "    </tr>\n",
       "  </thead>\n",
       "  <tbody>\n",
       "    <tr>\n",
       "      <th>69</th>\n",
       "      <td>3</td>\n",
       "      <td>4443</td>\n",
       "      <td>4.0</td>\n",
       "      <td>1164885526</td>\n",
       "    </tr>\n",
       "    <tr>\n",
       "      <th>70</th>\n",
       "      <td>3</td>\n",
       "      <td>7042</td>\n",
       "      <td>3.5</td>\n",
       "      <td>1164885564</td>\n",
       "    </tr>\n",
       "    <tr>\n",
       "      <th>71</th>\n",
       "      <td>3</td>\n",
       "      <td>3323</td>\n",
       "      <td>4.0</td>\n",
       "      <td>1164885590</td>\n",
       "    </tr>\n",
       "    <tr>\n",
       "      <th>72</th>\n",
       "      <td>3</td>\n",
       "      <td>5204</td>\n",
       "      <td>3.0</td>\n",
       "      <td>1164885617</td>\n",
       "    </tr>\n",
       "    <tr>\n",
       "      <th>73</th>\n",
       "      <td>3</td>\n",
       "      <td>5432</td>\n",
       "      <td>4.5</td>\n",
       "      <td>1164885648</td>\n",
       "    </tr>\n",
       "    <tr>\n",
       "      <th>...</th>\n",
       "      <td>...</td>\n",
       "      <td>...</td>\n",
       "      <td>...</td>\n",
       "      <td>...</td>\n",
       "    </tr>\n",
       "    <tr>\n",
       "      <th>9999697</th>\n",
       "      <td>69874</td>\n",
       "      <td>4291</td>\n",
       "      <td>4.5</td>\n",
       "      <td>1162134523</td>\n",
       "    </tr>\n",
       "    <tr>\n",
       "      <th>9999698</th>\n",
       "      <td>69874</td>\n",
       "      <td>5890</td>\n",
       "      <td>4.0</td>\n",
       "      <td>1162134604</td>\n",
       "    </tr>\n",
       "    <tr>\n",
       "      <th>9999699</th>\n",
       "      <td>69874</td>\n",
       "      <td>2806</td>\n",
       "      <td>3.5</td>\n",
       "      <td>1162134613</td>\n",
       "    </tr>\n",
       "    <tr>\n",
       "      <th>9999700</th>\n",
       "      <td>69874</td>\n",
       "      <td>9119</td>\n",
       "      <td>3.5</td>\n",
       "      <td>1162134964</td>\n",
       "    </tr>\n",
       "    <tr>\n",
       "      <th>9999701</th>\n",
       "      <td>69874</td>\n",
       "      <td>9460</td>\n",
       "      <td>4.5</td>\n",
       "      <td>1162135290</td>\n",
       "    </tr>\n",
       "  </tbody>\n",
       "</table>\n",
       "<p>1000005 rows × 4 columns</p>\n",
       "</div>"
      ],
      "text/plain": [
       "         user_id  item_id  rating   timestamp\n",
       "69             3     4443     4.0  1164885526\n",
       "70             3     7042     3.5  1164885564\n",
       "71             3     3323     4.0  1164885590\n",
       "72             3     5204     3.0  1164885617\n",
       "73             3     5432     4.5  1164885648\n",
       "...          ...      ...     ...         ...\n",
       "9999697    69874     4291     4.5  1162134523\n",
       "9999698    69874     5890     4.0  1162134604\n",
       "9999699    69874     2806     3.5  1162134613\n",
       "9999700    69874     9119     3.5  1162134964\n",
       "9999701    69874     9460     4.5  1162135290\n",
       "\n",
       "[1000005 rows x 4 columns]"
      ]
     },
     "execution_count": 9,
     "metadata": {},
     "output_type": "execute_result"
    }
   ],
   "source": [
    "train_eval_df"
   ]
  },
  {
   "cell_type": "code",
   "execution_count": 10,
   "id": "40f4a41a-f85d-40bc-89fc-79399f356e5b",
   "metadata": {},
   "outputs": [],
   "source": [
    "train_trai_df = reviews_df[reviews_df.timestamp < train_hist_time]"
   ]
  },
  {
   "cell_type": "raw",
   "id": "9f99dd84-2e44-480b-a41e-07954449b238",
   "metadata": {},
   "source": [
    "train_trai_df"
   ]
  },
  {
   "cell_type": "code",
   "execution_count": 11,
   "id": "ba61204b-dca0-49e9-a87b-d4eee7511575",
   "metadata": {},
   "outputs": [],
   "source": [
    "# train_matrix = train_df.pivot(index='user_id', columns='item_id', values='rating')\n",
    "train_matrix = np.zeros((user_count+1, item_count+1))\n",
    "for row in train_df.to_numpy():\n",
    "    train_matrix[int(row[0]),int(row[1])]=row[2]"
   ]
  },
  {
   "cell_type": "code",
   "execution_count": 12,
   "id": "078792fd-c151-4e1f-b06f-444e187382b6",
   "metadata": {},
   "outputs": [
    {
     "data": {
      "text/plain": [
       "(69879, 10682)"
      ]
     },
     "execution_count": 12,
     "metadata": {},
     "output_type": "execute_result"
    }
   ],
   "source": [
    "train_matrix.shape"
   ]
  },
  {
   "cell_type": "code",
   "execution_count": 13,
   "id": "3208c207-3581-4ce2-82ff-68312e0bad91",
   "metadata": {},
   "outputs": [
    {
     "data": {
      "text/plain": [
       "5.0"
      ]
     },
     "execution_count": 13,
     "metadata": {},
     "output_type": "execute_result"
    }
   ],
   "source": [
    "train_matrix[1,583]"
   ]
  },
  {
   "cell_type": "code",
   "execution_count": 14,
   "id": "22899abf-2327-4e2b-91f2-3083cf8a88b7",
   "metadata": {},
   "outputs": [],
   "source": [
    "test_matrix = np.zeros((user_count+1, item_count+1))\n",
    "for row in test_df.to_numpy():\n",
    "    test_matrix[int(row[0]),int(row[1])]=row[2]"
   ]
  },
  {
   "cell_type": "markdown",
   "id": "d2268b2e-e91a-4325-a97f-51048408446b",
   "metadata": {},
   "source": [
    "baseline experiments"
   ]
  },
  {
   "cell_type": "code",
   "execution_count": 15,
   "id": "d9b4bb2d-553f-4494-bdcf-b698501930ec",
   "metadata": {},
   "outputs": [],
   "source": [
    "actual_test = test_matrix[test_matrix.nonzero()].flatten()"
   ]
  },
  {
   "cell_type": "code",
   "execution_count": 16,
   "id": "e768fa78-4f22-4ecb-88e0-fb42f5c6b710",
   "metadata": {},
   "outputs": [
    {
     "data": {
      "text/plain": [
       "1000006"
      ]
     },
     "execution_count": 16,
     "metadata": {},
     "output_type": "execute_result"
    }
   ],
   "source": [
    "actual_test.size"
   ]
  },
  {
   "cell_type": "code",
   "execution_count": 17,
   "id": "06a697a3-0122-4b9b-90a8-fe2a912e170c",
   "metadata": {},
   "outputs": [
    {
     "data": {
      "text/plain": [
       "array([3. , 3. , 3. , ..., 4.5, 4.5, 1. ])"
      ]
     },
     "execution_count": 17,
     "metadata": {},
     "output_type": "execute_result"
    }
   ],
   "source": [
    "actual_test"
   ]
  },
  {
   "cell_type": "code",
   "execution_count": 18,
   "id": "953425f5-c2b3-48fb-90b2-f1f8b32590a1",
   "metadata": {},
   "outputs": [
    {
     "data": {
      "text/plain": [
       "0.5"
      ]
     },
     "execution_count": 18,
     "metadata": {},
     "output_type": "execute_result"
    }
   ],
   "source": [
    "min(actual_test)"
   ]
  },
  {
   "cell_type": "code",
   "execution_count": 19,
   "id": "fdc959c3-9bba-41ea-9eda-ddf0172dcebf",
   "metadata": {},
   "outputs": [
    {
     "data": {
      "text/plain": [
       "array([3.5, 3.5, 3.5, ..., 3.5, 3.5, 3.5])"
      ]
     },
     "execution_count": 19,
     "metadata": {},
     "output_type": "execute_result"
    }
   ],
   "source": [
    "pred_test = np.zeros(actual_test.size)\n",
    "pred_test[pred_test==0] = 3.5\n",
    "pred_test"
   ]
  },
  {
   "cell_type": "code",
   "execution_count": 20,
   "id": "29d84c72-e67c-4ab2-952d-f4593d24864d",
   "metadata": {},
   "outputs": [
    {
     "data": {
      "text/plain": [
       "1000006"
      ]
     },
     "execution_count": 20,
     "metadata": {},
     "output_type": "execute_result"
    }
   ],
   "source": [
    "pred_test.size"
   ]
  },
  {
   "cell_type": "code",
   "execution_count": 21,
   "id": "65763d1b-6c33-467a-a1b7-3fd3c4ac6bc2",
   "metadata": {},
   "outputs": [
    {
     "name": "stdout",
     "output_type": "stream",
     "text": [
      "Mean  Squared Error is :  1.016053153681078\n"
     ]
    }
   ],
   "source": [
    "print(\"Mean  Squared Error is : \", mean_squared_error(pred_test, actual_test))"
   ]
  },
  {
   "cell_type": "code",
   "execution_count": 22,
   "id": "28105945-9d60-4064-9c1a-c1f1bda5351d",
   "metadata": {},
   "outputs": [
    {
     "name": "stderr",
     "output_type": "stream",
     "text": [
      "2024-04-28 15:35:07.298720: I tensorflow/compiler/xla/stream_executor/cuda/cuda_gpu_executor.cc:894] successful NUMA node read from SysFS had negative value (-1), but there must be at least one NUMA node, so returning NUMA node zero. See more at https://github.com/torvalds/linux/blob/v6.0/Documentation/ABI/testing/sysfs-bus-pci#L344-L355\n",
      "2024-04-28 15:35:07.298883: I tensorflow/compiler/xla/stream_executor/cuda/cuda_gpu_executor.cc:894] successful NUMA node read from SysFS had negative value (-1), but there must be at least one NUMA node, so returning NUMA node zero. See more at https://github.com/torvalds/linux/blob/v6.0/Documentation/ABI/testing/sysfs-bus-pci#L344-L355\n",
      "2024-04-28 15:35:07.298950: I tensorflow/compiler/xla/stream_executor/cuda/cuda_gpu_executor.cc:894] successful NUMA node read from SysFS had negative value (-1), but there must be at least one NUMA node, so returning NUMA node zero. See more at https://github.com/torvalds/linux/blob/v6.0/Documentation/ABI/testing/sysfs-bus-pci#L344-L355\n",
      "2024-04-28 15:35:07.359552: I tensorflow/compiler/xla/stream_executor/cuda/cuda_gpu_executor.cc:894] successful NUMA node read from SysFS had negative value (-1), but there must be at least one NUMA node, so returning NUMA node zero. See more at https://github.com/torvalds/linux/blob/v6.0/Documentation/ABI/testing/sysfs-bus-pci#L344-L355\n",
      "2024-04-28 15:35:07.359649: I tensorflow/compiler/xla/stream_executor/cuda/cuda_gpu_executor.cc:894] successful NUMA node read from SysFS had negative value (-1), but there must be at least one NUMA node, so returning NUMA node zero. See more at https://github.com/torvalds/linux/blob/v6.0/Documentation/ABI/testing/sysfs-bus-pci#L344-L355\n",
      "2024-04-28 15:35:07.359727: I tensorflow/compiler/xla/stream_executor/cuda/cuda_gpu_executor.cc:894] successful NUMA node read from SysFS had negative value (-1), but there must be at least one NUMA node, so returning NUMA node zero. See more at https://github.com/torvalds/linux/blob/v6.0/Documentation/ABI/testing/sysfs-bus-pci#L344-L355\n",
      "2024-04-28 15:35:07.359787: I tensorflow/core/common_runtime/gpu/gpu_device.cc:1886] Created device /job:localhost/replica:0/task:0/device:GPU:0 with 1173 MB memory:  -> device: 0, name: NVIDIA GeForce RTX 3070, pci bus id: 0000:01:00.0, compute capability: 8.6\n"
     ]
    }
   ],
   "source": [
    "n_latent_factors = 1\n",
    "user_input = Input(shape=[1], name='user')\n",
    "user_embedding = Embedding(input_dim=user_count, output_dim=n_latent_factors,name='user_embedding')(user_input)\n",
    "user_vec = Flatten(name='flatten_users')(user_embedding)\n",
    "movie_input = Input(shape=[1], name='movie')\n",
    "movie_embedding = Embedding(input_dim=item_count,output_dim=n_latent_factors,name='movie_embedding')(movie_input)\n",
    "movie_vec = Flatten(name='flatten_movies')(movie_embedding)\n",
    "product = dot([movie_vec, user_vec], axes=1)\n",
    "model = Model(inputs=[user_input, movie_input], outputs=product)\n",
    "model.compile('adam', 'mean_squared_error')"
   ]
  },
  {
   "cell_type": "code",
   "execution_count": 23,
   "id": "678c8801-af47-44dd-95c0-f4f274a12c33",
   "metadata": {},
   "outputs": [
    {
     "name": "stdout",
     "output_type": "stream",
     "text": [
      "Model: \"model\"\n",
      "__________________________________________________________________________________________________\n",
      " Layer (type)                Output Shape                 Param #   Connected to                  \n",
      "==================================================================================================\n",
      " movie (InputLayer)          [(None, 1)]                  0         []                            \n",
      "                                                                                                  \n",
      " user (InputLayer)           [(None, 1)]                  0         []                            \n",
      "                                                                                                  \n",
      " movie_embedding (Embedding  (None, 1, 1)                 10681     ['movie[0][0]']               \n",
      " )                                                                                                \n",
      "                                                                                                  \n",
      " user_embedding (Embedding)  (None, 1, 1)                 69878     ['user[0][0]']                \n",
      "                                                                                                  \n",
      " flatten_movies (Flatten)    (None, 1)                    0         ['movie_embedding[0][0]']     \n",
      "                                                                                                  \n",
      " flatten_users (Flatten)     (None, 1)                    0         ['user_embedding[0][0]']      \n",
      "                                                                                                  \n",
      " dot (Dot)                   (None, 1)                    0         ['flatten_movies[0][0]',      \n",
      "                                                                     'flatten_users[0][0]']       \n",
      "                                                                                                  \n",
      "==================================================================================================\n",
      "Total params: 80559 (314.68 KB)\n",
      "Trainable params: 80559 (314.68 KB)\n",
      "Non-trainable params: 0 (0.00 Byte)\n",
      "__________________________________________________________________________________________________\n"
     ]
    }
   ],
   "source": [
    "model.summary()"
   ]
  },
  {
   "cell_type": "code",
   "execution_count": 24,
   "id": "e80fe3a5-4057-4b43-b75a-bf46d2cb48d7",
   "metadata": {},
   "outputs": [],
   "source": [
    "import torch"
   ]
  },
  {
   "cell_type": "code",
   "execution_count": 25,
   "id": "79c28ee3-0426-49a3-97e2-2992c04d07a8",
   "metadata": {},
   "outputs": [
    {
     "data": {
      "text/html": [
       "<div>\n",
       "<style scoped>\n",
       "    .dataframe tbody tr th:only-of-type {\n",
       "        vertical-align: middle;\n",
       "    }\n",
       "\n",
       "    .dataframe tbody tr th {\n",
       "        vertical-align: top;\n",
       "    }\n",
       "\n",
       "    .dataframe thead th {\n",
       "        text-align: right;\n",
       "    }\n",
       "</style>\n",
       "<table border=\"1\" class=\"dataframe\">\n",
       "  <thead>\n",
       "    <tr style=\"text-align: right;\">\n",
       "      <th></th>\n",
       "      <th>user_id</th>\n",
       "      <th>item_id</th>\n",
       "      <th>rating</th>\n",
       "      <th>timestamp</th>\n",
       "    </tr>\n",
       "  </thead>\n",
       "  <tbody>\n",
       "    <tr>\n",
       "      <th>0</th>\n",
       "      <td>1</td>\n",
       "      <td>583</td>\n",
       "      <td>5.0</td>\n",
       "      <td>838983339</td>\n",
       "    </tr>\n",
       "    <tr>\n",
       "      <th>1</th>\n",
       "      <td>1</td>\n",
       "      <td>229</td>\n",
       "      <td>5.0</td>\n",
       "      <td>838983392</td>\n",
       "    </tr>\n",
       "    <tr>\n",
       "      <th>2</th>\n",
       "      <td>1</td>\n",
       "      <td>314</td>\n",
       "      <td>5.0</td>\n",
       "      <td>838983392</td>\n",
       "    </tr>\n",
       "    <tr>\n",
       "      <th>3</th>\n",
       "      <td>1</td>\n",
       "      <td>326</td>\n",
       "      <td>5.0</td>\n",
       "      <td>838983392</td>\n",
       "    </tr>\n",
       "    <tr>\n",
       "      <th>4</th>\n",
       "      <td>1</td>\n",
       "      <td>290</td>\n",
       "      <td>5.0</td>\n",
       "      <td>838983421</td>\n",
       "    </tr>\n",
       "    <tr>\n",
       "      <th>...</th>\n",
       "      <td>...</td>\n",
       "      <td>...</td>\n",
       "      <td>...</td>\n",
       "      <td>...</td>\n",
       "    </tr>\n",
       "    <tr>\n",
       "      <th>10000049</th>\n",
       "      <td>69878</td>\n",
       "      <td>1753</td>\n",
       "      <td>3.0</td>\n",
       "      <td>912649171</td>\n",
       "    </tr>\n",
       "    <tr>\n",
       "      <th>10000050</th>\n",
       "      <td>69878</td>\n",
       "      <td>258</td>\n",
       "      <td>5.0</td>\n",
       "      <td>912649271</td>\n",
       "    </tr>\n",
       "    <tr>\n",
       "      <th>10000051</th>\n",
       "      <td>69878</td>\n",
       "      <td>1662</td>\n",
       "      <td>4.0</td>\n",
       "      <td>912649271</td>\n",
       "    </tr>\n",
       "    <tr>\n",
       "      <th>10000052</th>\n",
       "      <td>69878</td>\n",
       "      <td>882</td>\n",
       "      <td>4.0</td>\n",
       "      <td>912649403</td>\n",
       "    </tr>\n",
       "    <tr>\n",
       "      <th>10000053</th>\n",
       "      <td>69878</td>\n",
       "      <td>1172</td>\n",
       "      <td>4.0</td>\n",
       "      <td>912649434</td>\n",
       "    </tr>\n",
       "  </tbody>\n",
       "</table>\n",
       "<p>9000048 rows × 4 columns</p>\n",
       "</div>"
      ],
      "text/plain": [
       "          user_id  item_id  rating  timestamp\n",
       "0               1      583     5.0  838983339\n",
       "1               1      229     5.0  838983392\n",
       "2               1      314     5.0  838983392\n",
       "3               1      326     5.0  838983392\n",
       "4               1      290     5.0  838983421\n",
       "...           ...      ...     ...        ...\n",
       "10000049    69878     1753     3.0  912649171\n",
       "10000050    69878      258     5.0  912649271\n",
       "10000051    69878     1662     4.0  912649271\n",
       "10000052    69878      882     4.0  912649403\n",
       "10000053    69878     1172     4.0  912649434\n",
       "\n",
       "[9000048 rows x 4 columns]"
      ]
     },
     "execution_count": 25,
     "metadata": {},
     "output_type": "execute_result"
    }
   ],
   "source": [
    "train_df"
   ]
  },
  {
   "cell_type": "code",
   "execution_count": 26,
   "id": "35caf1c8-a379-4308-ba89-515dbfbff7b7",
   "metadata": {},
   "outputs": [
    {
     "data": {
      "text/html": [
       "<div>\n",
       "<style scoped>\n",
       "    .dataframe tbody tr th:only-of-type {\n",
       "        vertical-align: middle;\n",
       "    }\n",
       "\n",
       "    .dataframe tbody tr th {\n",
       "        vertical-align: top;\n",
       "    }\n",
       "\n",
       "    .dataframe thead th {\n",
       "        text-align: right;\n",
       "    }\n",
       "</style>\n",
       "<table border=\"1\" class=\"dataframe\">\n",
       "  <thead>\n",
       "    <tr style=\"text-align: right;\">\n",
       "      <th></th>\n",
       "      <th>user_id</th>\n",
       "      <th>item_id</th>\n",
       "      <th>rating</th>\n",
       "      <th>timestamp</th>\n",
       "    </tr>\n",
       "  </thead>\n",
       "  <tbody>\n",
       "    <tr>\n",
       "      <th>69</th>\n",
       "      <td>3</td>\n",
       "      <td>4443</td>\n",
       "      <td>4.0</td>\n",
       "      <td>1164885526</td>\n",
       "    </tr>\n",
       "    <tr>\n",
       "      <th>70</th>\n",
       "      <td>3</td>\n",
       "      <td>7042</td>\n",
       "      <td>3.5</td>\n",
       "      <td>1164885564</td>\n",
       "    </tr>\n",
       "    <tr>\n",
       "      <th>71</th>\n",
       "      <td>3</td>\n",
       "      <td>3323</td>\n",
       "      <td>4.0</td>\n",
       "      <td>1164885590</td>\n",
       "    </tr>\n",
       "    <tr>\n",
       "      <th>72</th>\n",
       "      <td>3</td>\n",
       "      <td>5204</td>\n",
       "      <td>3.0</td>\n",
       "      <td>1164885617</td>\n",
       "    </tr>\n",
       "    <tr>\n",
       "      <th>73</th>\n",
       "      <td>3</td>\n",
       "      <td>5432</td>\n",
       "      <td>4.5</td>\n",
       "      <td>1164885648</td>\n",
       "    </tr>\n",
       "    <tr>\n",
       "      <th>...</th>\n",
       "      <td>...</td>\n",
       "      <td>...</td>\n",
       "      <td>...</td>\n",
       "      <td>...</td>\n",
       "    </tr>\n",
       "    <tr>\n",
       "      <th>9999697</th>\n",
       "      <td>69874</td>\n",
       "      <td>4291</td>\n",
       "      <td>4.5</td>\n",
       "      <td>1162134523</td>\n",
       "    </tr>\n",
       "    <tr>\n",
       "      <th>9999698</th>\n",
       "      <td>69874</td>\n",
       "      <td>5890</td>\n",
       "      <td>4.0</td>\n",
       "      <td>1162134604</td>\n",
       "    </tr>\n",
       "    <tr>\n",
       "      <th>9999699</th>\n",
       "      <td>69874</td>\n",
       "      <td>2806</td>\n",
       "      <td>3.5</td>\n",
       "      <td>1162134613</td>\n",
       "    </tr>\n",
       "    <tr>\n",
       "      <th>9999700</th>\n",
       "      <td>69874</td>\n",
       "      <td>9119</td>\n",
       "      <td>3.5</td>\n",
       "      <td>1162134964</td>\n",
       "    </tr>\n",
       "    <tr>\n",
       "      <th>9999701</th>\n",
       "      <td>69874</td>\n",
       "      <td>9460</td>\n",
       "      <td>4.5</td>\n",
       "      <td>1162135290</td>\n",
       "    </tr>\n",
       "  </tbody>\n",
       "</table>\n",
       "<p>1000005 rows × 4 columns</p>\n",
       "</div>"
      ],
      "text/plain": [
       "         user_id  item_id  rating   timestamp\n",
       "69             3     4443     4.0  1164885526\n",
       "70             3     7042     3.5  1164885564\n",
       "71             3     3323     4.0  1164885590\n",
       "72             3     5204     3.0  1164885617\n",
       "73             3     5432     4.5  1164885648\n",
       "...          ...      ...     ...         ...\n",
       "9999697    69874     4291     4.5  1162134523\n",
       "9999698    69874     5890     4.0  1162134604\n",
       "9999699    69874     2806     3.5  1162134613\n",
       "9999700    69874     9119     3.5  1162134964\n",
       "9999701    69874     9460     4.5  1162135290\n",
       "\n",
       "[1000005 rows x 4 columns]"
      ]
     },
     "execution_count": 26,
     "metadata": {},
     "output_type": "execute_result"
    }
   ],
   "source": [
    "train_eval_df"
   ]
  },
  {
   "cell_type": "code",
   "execution_count": 27,
   "id": "6b7a9455-6aa3-47eb-86db-50642cf1185a",
   "metadata": {},
   "outputs": [
    {
     "data": {
      "text/html": [
       "<div>\n",
       "<style scoped>\n",
       "    .dataframe tbody tr th:only-of-type {\n",
       "        vertical-align: middle;\n",
       "    }\n",
       "\n",
       "    .dataframe tbody tr th {\n",
       "        vertical-align: top;\n",
       "    }\n",
       "\n",
       "    .dataframe thead th {\n",
       "        text-align: right;\n",
       "    }\n",
       "</style>\n",
       "<table border=\"1\" class=\"dataframe\">\n",
       "  <thead>\n",
       "    <tr style=\"text-align: right;\">\n",
       "      <th></th>\n",
       "      <th>user_id</th>\n",
       "      <th>item_id</th>\n",
       "      <th>rating</th>\n",
       "      <th>timestamp</th>\n",
       "    </tr>\n",
       "  </thead>\n",
       "  <tbody>\n",
       "    <tr>\n",
       "      <th>0</th>\n",
       "      <td>1</td>\n",
       "      <td>583</td>\n",
       "      <td>5.0</td>\n",
       "      <td>838983339</td>\n",
       "    </tr>\n",
       "    <tr>\n",
       "      <th>1</th>\n",
       "      <td>1</td>\n",
       "      <td>229</td>\n",
       "      <td>5.0</td>\n",
       "      <td>838983392</td>\n",
       "    </tr>\n",
       "    <tr>\n",
       "      <th>2</th>\n",
       "      <td>1</td>\n",
       "      <td>314</td>\n",
       "      <td>5.0</td>\n",
       "      <td>838983392</td>\n",
       "    </tr>\n",
       "    <tr>\n",
       "      <th>3</th>\n",
       "      <td>1</td>\n",
       "      <td>326</td>\n",
       "      <td>5.0</td>\n",
       "      <td>838983392</td>\n",
       "    </tr>\n",
       "    <tr>\n",
       "      <th>4</th>\n",
       "      <td>1</td>\n",
       "      <td>290</td>\n",
       "      <td>5.0</td>\n",
       "      <td>838983421</td>\n",
       "    </tr>\n",
       "    <tr>\n",
       "      <th>...</th>\n",
       "      <td>...</td>\n",
       "      <td>...</td>\n",
       "      <td>...</td>\n",
       "      <td>...</td>\n",
       "    </tr>\n",
       "    <tr>\n",
       "      <th>10000049</th>\n",
       "      <td>69878</td>\n",
       "      <td>1753</td>\n",
       "      <td>3.0</td>\n",
       "      <td>912649171</td>\n",
       "    </tr>\n",
       "    <tr>\n",
       "      <th>10000050</th>\n",
       "      <td>69878</td>\n",
       "      <td>258</td>\n",
       "      <td>5.0</td>\n",
       "      <td>912649271</td>\n",
       "    </tr>\n",
       "    <tr>\n",
       "      <th>10000051</th>\n",
       "      <td>69878</td>\n",
       "      <td>1662</td>\n",
       "      <td>4.0</td>\n",
       "      <td>912649271</td>\n",
       "    </tr>\n",
       "    <tr>\n",
       "      <th>10000052</th>\n",
       "      <td>69878</td>\n",
       "      <td>882</td>\n",
       "      <td>4.0</td>\n",
       "      <td>912649403</td>\n",
       "    </tr>\n",
       "    <tr>\n",
       "      <th>10000053</th>\n",
       "      <td>69878</td>\n",
       "      <td>1172</td>\n",
       "      <td>4.0</td>\n",
       "      <td>912649434</td>\n",
       "    </tr>\n",
       "  </tbody>\n",
       "</table>\n",
       "<p>8000043 rows × 4 columns</p>\n",
       "</div>"
      ],
      "text/plain": [
       "          user_id  item_id  rating  timestamp\n",
       "0               1      583     5.0  838983339\n",
       "1               1      229     5.0  838983392\n",
       "2               1      314     5.0  838983392\n",
       "3               1      326     5.0  838983392\n",
       "4               1      290     5.0  838983421\n",
       "...           ...      ...     ...        ...\n",
       "10000049    69878     1753     3.0  912649171\n",
       "10000050    69878      258     5.0  912649271\n",
       "10000051    69878     1662     4.0  912649271\n",
       "10000052    69878      882     4.0  912649403\n",
       "10000053    69878     1172     4.0  912649434\n",
       "\n",
       "[8000043 rows x 4 columns]"
      ]
     },
     "execution_count": 27,
     "metadata": {},
     "output_type": "execute_result"
    }
   ],
   "source": [
    "train_trai_df"
   ]
  },
  {
   "cell_type": "code",
   "execution_count": 28,
   "id": "e146894a-7e18-4fe6-a600-a3febb3025bd",
   "metadata": {},
   "outputs": [
    {
     "data": {
      "text/html": [
       "<div>\n",
       "<style scoped>\n",
       "    .dataframe tbody tr th:only-of-type {\n",
       "        vertical-align: middle;\n",
       "    }\n",
       "\n",
       "    .dataframe tbody tr th {\n",
       "        vertical-align: top;\n",
       "    }\n",
       "\n",
       "    .dataframe thead th {\n",
       "        text-align: right;\n",
       "    }\n",
       "</style>\n",
       "<table border=\"1\" class=\"dataframe\">\n",
       "  <thead>\n",
       "    <tr style=\"text-align: right;\">\n",
       "      <th></th>\n",
       "      <th>user_id</th>\n",
       "      <th>item_id</th>\n",
       "      <th>rating</th>\n",
       "      <th>timestamp</th>\n",
       "    </tr>\n",
       "  </thead>\n",
       "  <tbody>\n",
       "    <tr>\n",
       "      <th>0</th>\n",
       "      <td>1</td>\n",
       "      <td>583</td>\n",
       "      <td>5.0</td>\n",
       "      <td>838983339</td>\n",
       "    </tr>\n",
       "    <tr>\n",
       "      <th>1</th>\n",
       "      <td>1</td>\n",
       "      <td>229</td>\n",
       "      <td>5.0</td>\n",
       "      <td>838983392</td>\n",
       "    </tr>\n",
       "    <tr>\n",
       "      <th>2</th>\n",
       "      <td>1</td>\n",
       "      <td>314</td>\n",
       "      <td>5.0</td>\n",
       "      <td>838983392</td>\n",
       "    </tr>\n",
       "    <tr>\n",
       "      <th>3</th>\n",
       "      <td>1</td>\n",
       "      <td>326</td>\n",
       "      <td>5.0</td>\n",
       "      <td>838983392</td>\n",
       "    </tr>\n",
       "    <tr>\n",
       "      <th>4</th>\n",
       "      <td>1</td>\n",
       "      <td>290</td>\n",
       "      <td>5.0</td>\n",
       "      <td>838983421</td>\n",
       "    </tr>\n",
       "    <tr>\n",
       "      <th>...</th>\n",
       "      <td>...</td>\n",
       "      <td>...</td>\n",
       "      <td>...</td>\n",
       "      <td>...</td>\n",
       "    </tr>\n",
       "    <tr>\n",
       "      <th>10000049</th>\n",
       "      <td>69878</td>\n",
       "      <td>1753</td>\n",
       "      <td>3.0</td>\n",
       "      <td>912649171</td>\n",
       "    </tr>\n",
       "    <tr>\n",
       "      <th>10000050</th>\n",
       "      <td>69878</td>\n",
       "      <td>258</td>\n",
       "      <td>5.0</td>\n",
       "      <td>912649271</td>\n",
       "    </tr>\n",
       "    <tr>\n",
       "      <th>10000051</th>\n",
       "      <td>69878</td>\n",
       "      <td>1662</td>\n",
       "      <td>4.0</td>\n",
       "      <td>912649271</td>\n",
       "    </tr>\n",
       "    <tr>\n",
       "      <th>10000052</th>\n",
       "      <td>69878</td>\n",
       "      <td>882</td>\n",
       "      <td>4.0</td>\n",
       "      <td>912649403</td>\n",
       "    </tr>\n",
       "    <tr>\n",
       "      <th>10000053</th>\n",
       "      <td>69878</td>\n",
       "      <td>1172</td>\n",
       "      <td>4.0</td>\n",
       "      <td>912649434</td>\n",
       "    </tr>\n",
       "  </tbody>\n",
       "</table>\n",
       "<p>9000048 rows × 4 columns</p>\n",
       "</div>"
      ],
      "text/plain": [
       "          user_id  item_id  rating  timestamp\n",
       "0               1      583     5.0  838983339\n",
       "1               1      229     5.0  838983392\n",
       "2               1      314     5.0  838983392\n",
       "3               1      326     5.0  838983392\n",
       "4               1      290     5.0  838983421\n",
       "...           ...      ...     ...        ...\n",
       "10000049    69878     1753     3.0  912649171\n",
       "10000050    69878      258     5.0  912649271\n",
       "10000051    69878     1662     4.0  912649271\n",
       "10000052    69878      882     4.0  912649403\n",
       "10000053    69878     1172     4.0  912649434\n",
       "\n",
       "[9000048 rows x 4 columns]"
      ]
     },
     "execution_count": 28,
     "metadata": {},
     "output_type": "execute_result"
    }
   ],
   "source": [
    "train_df"
   ]
  },
  {
   "cell_type": "code",
   "execution_count": 29,
   "id": "588e2d5b-11be-4d11-b6fa-3311f2bd95ca",
   "metadata": {},
   "outputs": [
    {
     "data": {
      "text/plain": [
       "array([    1,     1,     1, ..., 69878, 69878, 69878])"
      ]
     },
     "execution_count": 29,
     "metadata": {},
     "output_type": "execute_result"
    }
   ],
   "source": [
    "train_df.user_id.to_numpy()"
   ]
  },
  {
   "cell_type": "code",
   "execution_count": 30,
   "id": "b9f68a09-5b4d-4d93-ae92-c02c719bcd60",
   "metadata": {},
   "outputs": [
    {
     "name": "stdout",
     "output_type": "stream",
     "text": [
      "Epoch 1/50\n",
      "    1/35157 [..............................] - ETA: 8:59:01 - loss: 13.7367"
     ]
    },
    {
     "name": "stderr",
     "output_type": "stream",
     "text": [
      "2024-04-28 15:35:08.473037: I tensorflow/compiler/xla/service/service.cc:168] XLA service 0x7f28acd3b410 initialized for platform CUDA (this does not guarantee that XLA will be used). Devices:\n",
      "2024-04-28 15:35:08.473056: I tensorflow/compiler/xla/service/service.cc:176]   StreamExecutor device (0): NVIDIA GeForce RTX 3070, Compute Capability 8.6\n",
      "2024-04-28 15:35:08.476879: I tensorflow/compiler/mlir/tensorflow/utils/dump_mlir_util.cc:269] disabling MLIR crash reproducer, set env var `MLIR_CRASH_REPRODUCER_DIRECTORY` to enable.\n",
      "2024-04-28 15:35:08.485396: I tensorflow/compiler/xla/stream_executor/cuda/cuda_dnn.cc:442] Loaded cuDNN version 8700\n",
      "2024-04-28 15:35:08.558520: I ./tensorflow/compiler/jit/device_compiler.h:186] Compiled cluster using XLA!  This line is logged at most once for the lifetime of the process.\n"
     ]
    },
    {
     "name": "stdout",
     "output_type": "stream",
     "text": [
      "35157/35157 [==============================] - 44s 1ms/step - loss: 4.1307 - val_loss: 1.1797\n",
      "Epoch 2/50\n",
      "35157/35157 [==============================] - 40s 1ms/step - loss: 0.9058 - val_loss: 0.8194\n",
      "Epoch 3/50\n",
      "35157/35157 [==============================] - 40s 1ms/step - loss: 0.8019 - val_loss: 0.7483\n",
      "Epoch 4/50\n",
      "35157/35157 [==============================] - 40s 1ms/step - loss: 0.7840 - val_loss: 0.7235\n",
      "Epoch 5/50\n",
      "35157/35157 [==============================] - 40s 1ms/step - loss: 0.7779 - val_loss: 0.7119\n",
      "Epoch 6/50\n",
      "35157/35157 [==============================] - 40s 1ms/step - loss: 0.7750 - val_loss: 0.7061\n",
      "Epoch 7/50\n",
      "35157/35157 [==============================] - 40s 1ms/step - loss: 0.7732 - val_loss: 0.7022\n",
      "Epoch 8/50\n",
      "35157/35157 [==============================] - 40s 1ms/step - loss: 0.7722 - val_loss: 0.7003\n",
      "Epoch 9/50\n",
      "35157/35157 [==============================] - 40s 1ms/step - loss: 0.7713 - val_loss: 0.6986\n",
      "Epoch 10/50\n",
      "35157/35157 [==============================] - 40s 1ms/step - loss: 0.7706 - val_loss: 0.6981\n",
      "Epoch 11/50\n",
      "35157/35157 [==============================] - 40s 1ms/step - loss: 0.7700 - val_loss: 0.6967\n",
      "Epoch 12/50\n",
      "35157/35157 [==============================] - 40s 1ms/step - loss: 0.7695 - val_loss: 0.6970\n",
      "Epoch 13/50\n",
      "35157/35157 [==============================] - 40s 1ms/step - loss: 0.7691 - val_loss: 0.6958\n",
      "Epoch 14/50\n",
      "35157/35157 [==============================] - 40s 1ms/step - loss: 0.7686 - val_loss: 0.6950\n",
      "Epoch 15/50\n",
      "35157/35157 [==============================] - 40s 1ms/step - loss: 0.7683 - val_loss: 0.6952\n",
      "Epoch 16/50\n",
      "35157/35157 [==============================] - 40s 1ms/step - loss: 0.7679 - val_loss: 0.6940\n",
      "Epoch 17/50\n",
      "35157/35157 [==============================] - 40s 1ms/step - loss: 0.7677 - val_loss: 0.6944\n",
      "Epoch 18/50\n",
      "35157/35157 [==============================] - 40s 1ms/step - loss: 0.7673 - val_loss: 0.6938\n",
      "Epoch 19/50\n",
      "35157/35157 [==============================] - 40s 1ms/step - loss: 0.7670 - val_loss: 0.6938\n",
      "Epoch 20/50\n",
      "35157/35157 [==============================] - 40s 1ms/step - loss: 0.7667 - val_loss: 0.6939\n",
      "Epoch 21/50\n",
      "35157/35157 [==============================] - 40s 1ms/step - loss: 0.7665 - val_loss: 0.6934\n",
      "Epoch 22/50\n",
      "35157/35157 [==============================] - 40s 1ms/step - loss: 0.7662 - val_loss: 0.6933\n",
      "Epoch 23/50\n",
      "35157/35157 [==============================] - 40s 1ms/step - loss: 0.7660 - val_loss: 0.6934\n",
      "Epoch 24/50\n",
      "35157/35157 [==============================] - 40s 1ms/step - loss: 0.7657 - val_loss: 0.6931\n",
      "Epoch 25/50\n",
      "35157/35157 [==============================] - 40s 1ms/step - loss: 0.7656 - val_loss: 0.6937\n",
      "Epoch 26/50\n",
      "35157/35157 [==============================] - 40s 1ms/step - loss: 0.7654 - val_loss: 0.6927\n",
      "Epoch 27/50\n",
      "35157/35157 [==============================] - 40s 1ms/step - loss: 0.7652 - val_loss: 0.6927\n",
      "Epoch 28/50\n",
      "35157/35157 [==============================] - 40s 1ms/step - loss: 0.7650 - val_loss: 0.6926\n",
      "Epoch 29/50\n",
      "35157/35157 [==============================] - 40s 1ms/step - loss: 0.7648 - val_loss: 0.6923\n",
      "Epoch 30/50\n",
      "35157/35157 [==============================] - 40s 1ms/step - loss: 0.7647 - val_loss: 0.6927\n",
      "Epoch 31/50\n",
      "35157/35157 [==============================] - 40s 1ms/step - loss: 0.7646 - val_loss: 0.6924\n",
      "Epoch 32/50\n",
      "35157/35157 [==============================] - 40s 1ms/step - loss: 0.7644 - val_loss: 0.6921\n",
      "Epoch 33/50\n",
      "35157/35157 [==============================] - 40s 1ms/step - loss: 0.7643 - val_loss: 0.6923\n",
      "Epoch 34/50\n",
      "35157/35157 [==============================] - 40s 1ms/step - loss: 0.7641 - val_loss: 0.6921\n",
      "Epoch 35/50\n",
      "35157/35157 [==============================] - 40s 1ms/step - loss: 0.7640 - val_loss: 0.6924\n",
      "Epoch 36/50\n",
      "35157/35157 [==============================] - 40s 1ms/step - loss: 0.7639 - val_loss: 0.6921\n",
      "Epoch 37/50\n",
      "35157/35157 [==============================] - 40s 1ms/step - loss: 0.7637 - val_loss: 0.6919\n",
      "Epoch 38/50\n",
      "35157/35157 [==============================] - 40s 1ms/step - loss: 0.7636 - val_loss: 0.6927\n",
      "Epoch 39/50\n",
      "35157/35157 [==============================] - 40s 1ms/step - loss: 0.7636 - val_loss: 0.6913\n",
      "Epoch 40/50\n",
      "35157/35157 [==============================] - 40s 1ms/step - loss: 0.7635 - val_loss: 0.6925\n",
      "Epoch 41/50\n",
      "35157/35157 [==============================] - 40s 1ms/step - loss: 0.7634 - val_loss: 0.6921\n",
      "Epoch 42/50\n",
      "35157/35157 [==============================] - 40s 1ms/step - loss: 0.7633 - val_loss: 0.6919\n",
      "Epoch 43/50\n",
      "35157/35157 [==============================] - 40s 1ms/step - loss: 0.7632 - val_loss: 0.6922\n",
      "Epoch 44/50\n",
      "35157/35157 [==============================] - 40s 1ms/step - loss: 0.7632 - val_loss: 0.6925\n",
      "Epoch 45/50\n",
      "35157/35157 [==============================] - 40s 1ms/step - loss: 0.7631 - val_loss: 0.6917\n",
      "Epoch 46/50\n",
      "35157/35157 [==============================] - 40s 1ms/step - loss: 0.7630 - val_loss: 0.6917\n",
      "Epoch 47/50\n",
      "35157/35157 [==============================] - 40s 1ms/step - loss: 0.7629 - val_loss: 0.6921\n",
      "Epoch 48/50\n",
      "35157/35157 [==============================] - 40s 1ms/step - loss: 0.7630 - val_loss: 0.6919\n",
      "Epoch 49/50\n",
      "35157/35157 [==============================] - 40s 1ms/step - loss: 0.7629 - val_loss: 0.6918\n",
      "Epoch 50/50\n",
      "35157/35157 [==============================] - 40s 1ms/step - loss: 0.7628 - val_loss: 0.6918\n"
     ]
    }
   ],
   "source": [
    "history = model.fit(x=[train_df.user_id, train_df.item_id],\n",
    "                    y=train_df.rating, epochs=50, batch_size = 256,\n",
    "                    validation_data=([train_eval_df.user_id,\n",
    "                                      train_eval_df.item_id], train_eval_df.rating),\n",
    "                    verbose=1)"
   ]
  },
  {
   "cell_type": "code",
   "execution_count": 31,
   "id": "31c66df4-9f38-4934-9794-1d64d4fb8a60",
   "metadata": {},
   "outputs": [
    {
     "name": "stdout",
     "output_type": "stream",
     "text": [
      "Evaluate on test data\n",
      "7813/7813 [==============================] - 5s 681us/step - loss: 11.6564\n",
      "test loss, test acc: 11.656394004821777\n"
     ]
    }
   ],
   "source": [
    "# Evaluate the model on the test data using `evaluate`\n",
    "print(\"Evaluate on test data\")\n",
    "results = model.evaluate(x=[test_df.user_id, test_df.item_id],\n",
    "                    y=test_df.rating, batch_size=128)\n",
    "print(\"test loss, test acc:\", results)\n",
    "\n",
    "# Generate predictions (probabilities -- the output of the last layer)\n",
    "# on new data using `predict`\n",
    "# print(\"Generate predictions for 3 samples\")\n",
    "# predictions = model.predict(X_test[:3])\n",
    "# print(\"predictions shape:\", predictions.shape)"
   ]
  },
  {
   "cell_type": "code",
   "execution_count": 32,
   "id": "b8233024-d463-4f50-a05b-a98e6815e614",
   "metadata": {},
   "outputs": [
    {
     "name": "stdout",
     "output_type": "stream",
     "text": [
      "31251/31251 [==============================] - 17s 556us/step\n"
     ]
    }
   ],
   "source": [
    "output = model.predict(x=[test_df.user_id, test_df.item_id])\n",
    "output1 = np.array(output).flatten()"
   ]
  },
  {
   "cell_type": "code",
   "execution_count": 33,
   "id": "718a0e9f-03c2-4502-9b16-e75467591744",
   "metadata": {},
   "outputs": [],
   "source": [
    "for i in range(output.shape[0]):\n",
    "    if output1[i]>=4:\n",
    "        output1[i] = 1\n",
    "    else:\n",
    "        output1[i]=0"
   ]
  },
  {
   "cell_type": "code",
   "execution_count": 34,
   "id": "1d1057dc-489c-4717-8814-9d34e5d34788",
   "metadata": {},
   "outputs": [
    {
     "name": "stdout",
     "output_type": "stream",
     "text": [
      "(1000006,)\n"
     ]
    },
    {
     "data": {
      "text/plain": [
       "array([1., 0., 1., ..., 1., 1., 0.])"
      ]
     },
     "execution_count": 34,
     "metadata": {},
     "output_type": "execute_result"
    }
   ],
   "source": [
    "np.array(output1)\n",
    "test_ratings = np.array(test_df.rating.copy())\n",
    "print(test_ratings.shape)\n",
    "for i in range(test_ratings.shape[0]):\n",
    "    if test_ratings[i]>=4:\n",
    "        test_ratings[i] = 1\n",
    "    else:\n",
    "        test_ratings[i]=0\n",
    "test_ratings"
   ]
  },
  {
   "cell_type": "code",
   "execution_count": 35,
   "id": "52edc64b-f98e-46a2-a2c9-4159837883fd",
   "metadata": {},
   "outputs": [
    {
     "data": {
      "text/plain": [
       "0.5168418398041632"
      ]
     },
     "execution_count": 35,
     "metadata": {},
     "output_type": "execute_result"
    }
   ],
   "source": [
    "from sklearn.metrics import roc_auc_score\n",
    "roc_auc_score (test_ratings, output1)"
   ]
  },
  {
   "cell_type": "code",
   "execution_count": 36,
   "id": "6e3f0eb6-3187-4a0c-9fb5-436c5f3f1606",
   "metadata": {},
   "outputs": [
    {
     "data": {
      "text/plain": [
       "array([0., 1., 0., ..., 0., 0., 0.], dtype=float32)"
      ]
     },
     "execution_count": 36,
     "metadata": {},
     "output_type": "execute_result"
    }
   ],
   "source": [
    "output1"
   ]
  },
  {
   "cell_type": "code",
   "execution_count": 37,
   "id": "0098ecef-b2a1-4566-80c4-75118b05fa4a",
   "metadata": {},
   "outputs": [
    {
     "data": {
      "text/plain": [
       "array([1., 0., 1., ..., 1., 1., 0.])"
      ]
     },
     "execution_count": 37,
     "metadata": {},
     "output_type": "execute_result"
    }
   ],
   "source": [
    "test_ratings"
   ]
  },
  {
   "cell_type": "code",
   "execution_count": 38,
   "id": "9d97bef1-a8b8-46a7-b797-f056529a166d",
   "metadata": {},
   "outputs": [
    {
     "data": {
      "text/plain": [
       "TensorShape([None, 1])"
      ]
     },
     "execution_count": 38,
     "metadata": {},
     "output_type": "execute_result"
    }
   ],
   "source": [
    "product.shape"
   ]
  },
  {
   "cell_type": "code",
   "execution_count": 39,
   "id": "b20d080b-6525-455e-80b0-8173e5ade18f",
   "metadata": {},
   "outputs": [
    {
     "name": "stdout",
     "output_type": "stream",
     "text": [
      "Minimum loss:  0.6913028955459595\n"
     ]
    },
    {
     "data": {
      "image/png": "[encoded data removed]",
      "text/plain": [
       "<Figure size 640x480 with 1 Axes>"
      ]
     },
     "metadata": {},
     "output_type": "display_data"
    }
   ],
   "source": [
    "pd.Series(history.history['val_loss'][0:]).plot(logy=False)\n",
    "plt.xlabel(\"Epoch\")\n",
    "plt.ylabel(\"Validation Error\")\n",
    "print('Minimum loss: ', min(history.history['val_loss']))"
   ]
  },
  {
   "cell_type": "code",
   "execution_count": 40,
   "id": "f44bfaa1-5c93-48f3-938e-d52eb296f166",
   "metadata": {},
   "outputs": [
    {
     "name": "stdout",
     "output_type": "stream",
     "text": [
      "/bin/bash: /opt/miniconda/envs/tf/lib/libtinfo.so.6: no version information available (required by /bin/bash)\n",
      "Requirement already satisfied: pydot in /opt/miniconda/envs/tf/lib/python3.9/site-packages (2.0.0)\n",
      "Requirement already satisfied: pyparsing>=3 in /opt/miniconda/envs/tf/lib/python3.9/site-packages (from pydot) (3.1.2)\n",
      "\u001b[33mWARNING: Running pip as the 'root' user can result in broken permissions and conflicting behaviour with the system package manager. It is recommended to use a virtual environment instead: https://pip.pypa.io/warnings/venv\u001b[0m\u001b[33m\n",
      "\u001b[0mNote: you may need to restart the kernel to use updated packages.\n"
     ]
    }
   ],
   "source": [
    "pip install pydot"
   ]
  },
  {
   "cell_type": "code",
   "execution_count": 41,
   "id": "2f867a99-fe41-4914-b636-7ba9d3de0771",
   "metadata": {},
   "outputs": [
    {
     "ename": "FileNotFoundError",
     "evalue": "[Errno 2] \"dot\" not found in path.",
     "output_type": "error",
     "traceback": [
      "\u001b[0;31m---------------------------------------------------------------------------\u001b[0m",
      "\u001b[0;31mFileNotFoundError\u001b[0m                         Traceback (most recent call last)",
      "File \u001b[0;32m/opt/miniconda/envs/tf/lib/python3.9/site-packages/pydot/core.py:1753\u001b[0m, in \u001b[0;36mDot.create\u001b[0;34m(self, prog, format, encoding)\u001b[0m\n\u001b[1;32m   1752\u001b[0m \u001b[38;5;28;01mtry\u001b[39;00m:\n\u001b[0;32m-> 1753\u001b[0m     stdout_data, stderr_data, process \u001b[38;5;241m=\u001b[39m \u001b[43mcall_graphviz\u001b[49m\u001b[43m(\u001b[49m\n\u001b[1;32m   1754\u001b[0m \u001b[43m        \u001b[49m\u001b[43mprogram\u001b[49m\u001b[38;5;241;43m=\u001b[39;49m\u001b[43mprog\u001b[49m\u001b[43m,\u001b[49m\n\u001b[1;32m   1755\u001b[0m \u001b[43m        \u001b[49m\u001b[43marguments\u001b[49m\u001b[38;5;241;43m=\u001b[39;49m\u001b[43marguments\u001b[49m\u001b[43m,\u001b[49m\n\u001b[1;32m   1756\u001b[0m \u001b[43m        \u001b[49m\u001b[43mworking_dir\u001b[49m\u001b[38;5;241;43m=\u001b[39;49m\u001b[43mtmp_dir\u001b[49m\u001b[43m,\u001b[49m\n\u001b[1;32m   1757\u001b[0m \u001b[43m    \u001b[49m\u001b[43m)\u001b[49m\n\u001b[1;32m   1758\u001b[0m \u001b[38;5;28;01mexcept\u001b[39;00m \u001b[38;5;167;01mOSError\u001b[39;00m \u001b[38;5;28;01mas\u001b[39;00m e:\n",
      "File \u001b[0;32m/opt/miniconda/envs/tf/lib/python3.9/site-packages/pydot/core.py:133\u001b[0m, in \u001b[0;36mcall_graphviz\u001b[0;34m(program, arguments, working_dir, **kwargs)\u001b[0m\n\u001b[1;32m    131\u001b[0m program_with_args \u001b[38;5;241m=\u001b[39m [program] \u001b[38;5;241m+\u001b[39m arguments\n\u001b[0;32m--> 133\u001b[0m process \u001b[38;5;241m=\u001b[39m \u001b[43msubprocess\u001b[49m\u001b[38;5;241;43m.\u001b[39;49m\u001b[43mPopen\u001b[49m\u001b[43m(\u001b[49m\n\u001b[1;32m    134\u001b[0m \u001b[43m    \u001b[49m\u001b[43mprogram_with_args\u001b[49m\u001b[43m,\u001b[49m\n\u001b[1;32m    135\u001b[0m \u001b[43m    \u001b[49m\u001b[43menv\u001b[49m\u001b[38;5;241;43m=\u001b[39;49m\u001b[43menv\u001b[49m\u001b[43m,\u001b[49m\n\u001b[1;32m    136\u001b[0m \u001b[43m    \u001b[49m\u001b[43mcwd\u001b[49m\u001b[38;5;241;43m=\u001b[39;49m\u001b[43mworking_dir\u001b[49m\u001b[43m,\u001b[49m\n\u001b[1;32m    137\u001b[0m \u001b[43m    \u001b[49m\u001b[43mshell\u001b[49m\u001b[38;5;241;43m=\u001b[39;49m\u001b[38;5;28;43;01mFalse\u001b[39;49;00m\u001b[43m,\u001b[49m\n\u001b[1;32m    138\u001b[0m \u001b[43m    \u001b[49m\u001b[43mstderr\u001b[49m\u001b[38;5;241;43m=\u001b[39;49m\u001b[43msubprocess\u001b[49m\u001b[38;5;241;43m.\u001b[39;49m\u001b[43mPIPE\u001b[49m\u001b[43m,\u001b[49m\n\u001b[1;32m    139\u001b[0m \u001b[43m    \u001b[49m\u001b[43mstdout\u001b[49m\u001b[38;5;241;43m=\u001b[39;49m\u001b[43msubprocess\u001b[49m\u001b[38;5;241;43m.\u001b[39;49m\u001b[43mPIPE\u001b[49m\u001b[43m,\u001b[49m\n\u001b[1;32m    140\u001b[0m \u001b[43m    \u001b[49m\u001b[38;5;241;43m*\u001b[39;49m\u001b[38;5;241;43m*\u001b[39;49m\u001b[43mkwargs\u001b[49m\u001b[43m,\u001b[49m\n\u001b[1;32m    141\u001b[0m \u001b[43m\u001b[49m\u001b[43m)\u001b[49m\n\u001b[1;32m    142\u001b[0m stdout_data, stderr_data \u001b[38;5;241m=\u001b[39m process\u001b[38;5;241m.\u001b[39mcommunicate()\n",
      "File \u001b[0;32m/opt/miniconda/envs/tf/lib/python3.9/subprocess.py:951\u001b[0m, in \u001b[0;36mPopen.__init__\u001b[0;34m(self, args, bufsize, executable, stdin, stdout, stderr, preexec_fn, close_fds, shell, cwd, env, universal_newlines, startupinfo, creationflags, restore_signals, start_new_session, pass_fds, user, group, extra_groups, encoding, errors, text, umask)\u001b[0m\n\u001b[1;32m    948\u001b[0m             \u001b[38;5;28mself\u001b[39m\u001b[38;5;241m.\u001b[39mstderr \u001b[38;5;241m=\u001b[39m io\u001b[38;5;241m.\u001b[39mTextIOWrapper(\u001b[38;5;28mself\u001b[39m\u001b[38;5;241m.\u001b[39mstderr,\n\u001b[1;32m    949\u001b[0m                     encoding\u001b[38;5;241m=\u001b[39mencoding, errors\u001b[38;5;241m=\u001b[39merrors)\n\u001b[0;32m--> 951\u001b[0m     \u001b[38;5;28;43mself\u001b[39;49m\u001b[38;5;241;43m.\u001b[39;49m\u001b[43m_execute_child\u001b[49m\u001b[43m(\u001b[49m\u001b[43margs\u001b[49m\u001b[43m,\u001b[49m\u001b[43m \u001b[49m\u001b[43mexecutable\u001b[49m\u001b[43m,\u001b[49m\u001b[43m \u001b[49m\u001b[43mpreexec_fn\u001b[49m\u001b[43m,\u001b[49m\u001b[43m \u001b[49m\u001b[43mclose_fds\u001b[49m\u001b[43m,\u001b[49m\n\u001b[1;32m    952\u001b[0m \u001b[43m                        \u001b[49m\u001b[43mpass_fds\u001b[49m\u001b[43m,\u001b[49m\u001b[43m \u001b[49m\u001b[43mcwd\u001b[49m\u001b[43m,\u001b[49m\u001b[43m \u001b[49m\u001b[43menv\u001b[49m\u001b[43m,\u001b[49m\n\u001b[1;32m    953\u001b[0m \u001b[43m                        \u001b[49m\u001b[43mstartupinfo\u001b[49m\u001b[43m,\u001b[49m\u001b[43m \u001b[49m\u001b[43mcreationflags\u001b[49m\u001b[43m,\u001b[49m\u001b[43m \u001b[49m\u001b[43mshell\u001b[49m\u001b[43m,\u001b[49m\n\u001b[1;32m    954\u001b[0m \u001b[43m                        \u001b[49m\u001b[43mp2cread\u001b[49m\u001b[43m,\u001b[49m\u001b[43m \u001b[49m\u001b[43mp2cwrite\u001b[49m\u001b[43m,\u001b[49m\n\u001b[1;32m    955\u001b[0m \u001b[43m                        \u001b[49m\u001b[43mc2pread\u001b[49m\u001b[43m,\u001b[49m\u001b[43m \u001b[49m\u001b[43mc2pwrite\u001b[49m\u001b[43m,\u001b[49m\n\u001b[1;32m    956\u001b[0m \u001b[43m                        \u001b[49m\u001b[43merrread\u001b[49m\u001b[43m,\u001b[49m\u001b[43m \u001b[49m\u001b[43merrwrite\u001b[49m\u001b[43m,\u001b[49m\n\u001b[1;32m    957\u001b[0m \u001b[43m                        \u001b[49m\u001b[43mrestore_signals\u001b[49m\u001b[43m,\u001b[49m\n\u001b[1;32m    958\u001b[0m \u001b[43m                        \u001b[49m\u001b[43mgid\u001b[49m\u001b[43m,\u001b[49m\u001b[43m \u001b[49m\u001b[43mgids\u001b[49m\u001b[43m,\u001b[49m\u001b[43m \u001b[49m\u001b[43muid\u001b[49m\u001b[43m,\u001b[49m\u001b[43m \u001b[49m\u001b[43mumask\u001b[49m\u001b[43m,\u001b[49m\n\u001b[1;32m    959\u001b[0m \u001b[43m                        \u001b[49m\u001b[43mstart_new_session\u001b[49m\u001b[43m)\u001b[49m\n\u001b[1;32m    960\u001b[0m \u001b[38;5;28;01mexcept\u001b[39;00m:\n\u001b[1;32m    961\u001b[0m     \u001b[38;5;66;03m# Cleanup if the child failed starting.\u001b[39;00m\n",
      "File \u001b[0;32m/opt/miniconda/envs/tf/lib/python3.9/subprocess.py:1837\u001b[0m, in \u001b[0;36mPopen._execute_child\u001b[0;34m(self, args, executable, preexec_fn, close_fds, pass_fds, cwd, env, startupinfo, creationflags, shell, p2cread, p2cwrite, c2pread, c2pwrite, errread, errwrite, restore_signals, gid, gids, uid, umask, start_new_session)\u001b[0m\n\u001b[1;32m   1836\u001b[0m         err_msg \u001b[38;5;241m=\u001b[39m os\u001b[38;5;241m.\u001b[39mstrerror(errno_num)\n\u001b[0;32m-> 1837\u001b[0m     \u001b[38;5;28;01mraise\u001b[39;00m child_exception_type(errno_num, err_msg, err_filename)\n\u001b[1;32m   1838\u001b[0m \u001b[38;5;28;01mraise\u001b[39;00m child_exception_type(err_msg)\n",
      "\u001b[0;31mFileNotFoundError\u001b[0m: [Errno 2] No such file or directory: 'dot'",
      "\nDuring handling of the above exception, another exception occurred:\n",
      "\u001b[0;31mFileNotFoundError\u001b[0m                         Traceback (most recent call last)",
      "Cell \u001b[0;32mIn[41], line 3\u001b[0m\n\u001b[1;32m      1\u001b[0m \u001b[38;5;28;01mfrom\u001b[39;00m \u001b[38;5;21;01mIPython\u001b[39;00m\u001b[38;5;21;01m.\u001b[39;00m\u001b[38;5;21;01mdisplay\u001b[39;00m \u001b[38;5;28;01mimport\u001b[39;00m SVG\n\u001b[1;32m      2\u001b[0m \u001b[38;5;28;01mfrom\u001b[39;00m \u001b[38;5;21;01mtensorflow\u001b[39;00m\u001b[38;5;21;01m.\u001b[39;00m\u001b[38;5;21;01mkeras\u001b[39;00m\u001b[38;5;21;01m.\u001b[39;00m\u001b[38;5;21;01mutils\u001b[39;00m \u001b[38;5;28;01mimport\u001b[39;00m model_to_dot\n\u001b[0;32m----> 3\u001b[0m SVG(\u001b[43mmodel_to_dot\u001b[49m\u001b[43m(\u001b[49m\u001b[43mmodel\u001b[49m\u001b[43m,\u001b[49m\u001b[43m  \u001b[49m\u001b[43mshow_shapes\u001b[49m\u001b[38;5;241;43m=\u001b[39;49m\u001b[38;5;28;43;01mTrue\u001b[39;49;00m\u001b[43m,\u001b[49m\u001b[43m \u001b[49m\u001b[43mshow_layer_names\u001b[49m\u001b[38;5;241;43m=\u001b[39;49m\u001b[38;5;28;43;01mTrue\u001b[39;49;00m\u001b[43m)\u001b[49m\u001b[38;5;241;43m.\u001b[39;49m\u001b[43mcreate\u001b[49m\u001b[43m(\u001b[49m\u001b[43mprog\u001b[49m\u001b[38;5;241;43m=\u001b[39;49m\u001b[38;5;124;43m'\u001b[39;49m\u001b[38;5;124;43mdot\u001b[39;49m\u001b[38;5;124;43m'\u001b[39;49m\u001b[43m,\u001b[49m\u001b[43m \u001b[49m\u001b[38;5;28;43mformat\u001b[39;49m\u001b[38;5;241;43m=\u001b[39;49m\u001b[38;5;124;43m'\u001b[39;49m\u001b[38;5;124;43msvg\u001b[39;49m\u001b[38;5;124;43m'\u001b[39;49m\u001b[43m)\u001b[49m)\n",
      "File \u001b[0;32m/opt/miniconda/envs/tf/lib/python3.9/site-packages/pydot/core.py:1762\u001b[0m, in \u001b[0;36mDot.create\u001b[0;34m(self, prog, format, encoding)\u001b[0m\n\u001b[1;32m   1760\u001b[0m     args \u001b[38;5;241m=\u001b[39m \u001b[38;5;28mlist\u001b[39m(e\u001b[38;5;241m.\u001b[39margs)\n\u001b[1;32m   1761\u001b[0m     args[\u001b[38;5;241m1\u001b[39m] \u001b[38;5;241m=\u001b[39m \u001b[38;5;124m'\u001b[39m\u001b[38;5;124m\"\u001b[39m\u001b[38;5;132;01m{prog}\u001b[39;00m\u001b[38;5;124m\"\u001b[39m\u001b[38;5;124m not found in path.\u001b[39m\u001b[38;5;124m'\u001b[39m\u001b[38;5;241m.\u001b[39mformat(prog\u001b[38;5;241m=\u001b[39mprog)\n\u001b[0;32m-> 1762\u001b[0m     \u001b[38;5;28;01mraise\u001b[39;00m \u001b[38;5;167;01mOSError\u001b[39;00m(\u001b[38;5;241m*\u001b[39margs)\n\u001b[1;32m   1763\u001b[0m \u001b[38;5;28;01melse\u001b[39;00m:\n\u001b[1;32m   1764\u001b[0m     \u001b[38;5;28;01mraise\u001b[39;00m\n",
      "\u001b[0;31mFileNotFoundError\u001b[0m: [Errno 2] \"dot\" not found in path."
     ]
    }
   ],
   "source": [
    "from IPython.display import SVG\n",
    "from tensorflow.keras.utils import model_to_dot\n",
    "SVG(model_to_dot(model,  show_shapes=True, show_layer_names=True).create(prog='dot', format='svg'))"
   ]
  }
 ],
 "metadata": {
  "kernelspec": {
   "display_name": "Python 3 (ipykernel)",
   "language": "python",
   "name": "python3"
  },
  "language_info": {
   "codemirror_mode": {
    "name": "ipython",
    "version": 3
   },
   "file_extension": ".py",
   "mimetype": "text/x-python",
   "name": "python",
   "nbconvert_exporter": "python",
   "pygments_lexer": "ipython3",
   "version": "3.9.18"
  }
 },
 "nbformat": 4,
 "nbformat_minor": 5
}
