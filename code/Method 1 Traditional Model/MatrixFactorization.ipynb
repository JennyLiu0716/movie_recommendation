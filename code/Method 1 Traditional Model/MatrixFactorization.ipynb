{
 "cells": [
  {
   "cell_type": "markdown",
   "metadata": {},
   "source": [
    "## MovieLens dataset preprocessing"
   ]
  },
  {
   "cell_type": "code",
   "execution_count": 19,
   "metadata": {
    "editable": true,
    "slideshow": {
     "slide_type": ""
    },
    "tags": []
   },
   "outputs": [
    {
     "name": "stderr",
     "output_type": "stream",
     "text": [
      "/tmp/ipykernel_1289640/3430766284.py:10: ParserWarning: Falling back to the 'python' engine because the 'c' engine does not support regex separators (separators > 1 char and different from '\\s+' are interpreted as regex); you can avoid this warning by specifying engine='python'.\n",
      "  rating_dataset = pd.read_csv(datasetPath,sep='::')\n"
     ]
    },
    {
     "name": "stdout",
     "output_type": "stream",
     "text": [
      "            user_id       item_id        rating     timestamp\n",
      "count  1.000005e+07  1.000005e+07  1.000005e+07  1.000005e+07\n",
      "mean   3.586986e+04  4.120292e+03  3.512422e+00  1.032606e+09\n",
      "std    2.058534e+04  8.938402e+03  1.060418e+00  1.159640e+08\n",
      "min    1.000000e+00  1.000000e+00  5.000000e-01  7.896520e+08\n",
      "25%    1.812300e+04  6.480000e+02  3.000000e+00  9.467659e+08\n",
      "50%    3.574100e+04  1.834000e+03  4.000000e+00  1.035476e+09\n",
      "75%    5.360800e+04  3.624000e+03  4.000000e+00  1.126749e+09\n",
      "max    7.156700e+04  6.513300e+04  5.000000e+00  1.231132e+09\n",
      "[[0. 0. 0. ... 0. 0. 0.]\n",
      " [0. 0. 0. ... 0. 0. 0.]\n",
      " [0. 0. 0. ... 0. 0. 0.]\n",
      " ...\n",
      " [0. 0. 0. ... 0. 0. 0.]\n",
      " [1. 0. 0. ... 0. 0. 0.]\n",
      " [0. 0. 0. ... 0. 0. 0.]]\n",
      "(69878, 10677)\n",
      "98.67%\n"
     ]
    }
   ],
   "source": [
    "import numpy as np\n",
    "import pandas as pd\n",
    "from sklearn.model_selection import train_test_split\n",
    "from sklearn.metrics import mean_squared_error\n",
    "from math import sqrt\n",
    "\n",
    "\n",
    "def preprocess(datasetPath = './ratings.dat'):\n",
    "    # PLEASE DELETE THIS LINE LATER: nrows took first 500000 rows for test \n",
    "    rating_dataset = pd.read_csv(datasetPath,sep='::')\n",
    "    \n",
    "    rating_dataset.columns = ['user_id','item_id','rating','timestamp']\n",
    "    print(rating_dataset.describe())\n",
    "    \n",
    "\n",
    "    \n",
    "    min_rating = rating_dataset['rating'].min()\n",
    "    max_rating = rating_dataset['rating'].max()\n",
    "\n",
    "    # if the rating is greater or equal to 4, treat it as positive rating (1); \n",
    "    # otherwise treat it as negative rating (0)\n",
    "    #rating_dataset.loc[:,'rating'] = rating_dataset['rating'].map(lambda x: 1 if x >= 4 else 0)\n",
    "    rating_dataset.loc[:,'rating'] = rating_dataset['rating'].map(lambda x: (x - min_rating) / (max_rating - min_rating))\n",
    "    \n",
    "    # store the original user_id and item_id lists\n",
    "    user_id_list = sorted(rating_dataset.loc[:,'user_id'].unique().tolist())\n",
    "    item_id_list = sorted(rating_dataset.loc[:,'item_id'].unique().tolist())\n",
    "\n",
    "    item_index = np.arange(len(item_id_list)).tolist()\n",
    "    \n",
    "\n",
    "    # set the initial value (rating) of all the entries as 0 (if the data is NA, leave it as 0)\n",
    "    # user_item_matrix = np.zeros(shape = (len(user_id_list), len(item_id_list)))\n",
    "\n",
    "    # The (i row, j column) of user_item_matrix means the ith user's rating to the jth movies, \n",
    "    # Here, i and j are the actual ids' indices in the user_id_list and item_id_list respectively.\n",
    "\n",
    "    # for i in range(len(user_id_list)):\n",
    "    #     for index, row in rating_dataset.groupby(['user_id']).get_group(user_id_list[i]).iterrows():\n",
    "    #         item_id = row['item_id']\n",
    "    #         rating = row ['rating']\n",
    "    #         user_item_matrix[i, item_id_list.index(item_id)] = rating\n",
    "\n",
    "    user_item_matrix = rating_dataset.pivot(index='user_id', columns='item_id', values='rating')\n",
    "    user_item_matrix = np.float32(user_item_matrix.fillna(0).to_numpy())\n",
    "    print(user_item_matrix)\n",
    "    print(user_item_matrix.shape)\n",
    "\n",
    "    # show the sparsity of the user-item matrix\n",
    "    \n",
    "    sparsity = 1.0 - ( np.count_nonzero(user_item_matrix) / (user_item_matrix.shape[0] * user_item_matrix.shape[1]) )\n",
    "    sparsity *= 100\n",
    "    print('{:.2f}%'.format(sparsity))\n",
    "    \n",
    "    return rating_dataset, user_id_list, item_id_list, user_item_matrix\n",
    "\n",
    "rating_dataset, user_id_list, item_id_list, user_item_matrix = preprocess(datasetPath = './ratings.dat')"
   ]
  },
  {
   "cell_type": "markdown",
   "metadata": {
    "editable": true,
    "slideshow": {
     "slide_type": ""
    },
    "tags": []
   },
   "source": [
    "## Train/Test dataset split"
   ]
  },
  {
   "cell_type": "code",
   "execution_count": 21,
   "metadata": {},
   "outputs": [],
   "source": [
    "def train_test_split(ratings):\n",
    "    test_time = np.quantile(rating_dataset.timestamp, 0.90)\n",
    "    test_ids = rating_dataset.loc[rating_dataset['timestamp'] > test_time, ['user_id', 'item_id']]\\\n",
    "            .groupby('user_id')\n",
    "    \n",
    "    \n",
    "    test_index_list = []\n",
    "\n",
    "\n",
    "    for uid, mids in test_ids.__iter__():\n",
    "        u_index = user_id_list.index(uid)\n",
    "        mid_list = mids.item_id.to_list()\n",
    "        movie_indices = [item_id_list.index(mid) for mid in mid_list]\n",
    "    \n",
    "        test_index_list.append({u_index:movie_indices})\n",
    "        \n",
    "    \n",
    "    test = np.zeros(ratings.shape)\n",
    "   \n",
    "    \n",
    "    train = ratings.copy()\n",
    "    for i in test_index_list:\n",
    "        for u_index, m_list in i.items():\n",
    "            train[u_index, m_list] = 0\n",
    "            test[u_index, m_list] = ratings[u_index, m_list]\n",
    "            \n",
    "    validation = np.zeros(ratings.shape)\n",
    "    \n",
    "    MIN_USER_RATINGS = 35\n",
    "    DELETE_RATING_COUNT = 15\n",
    "    DELETE_RATING_COUNT_PROPORTION = 0.2\n",
    " \n",
    "    for user in np.arange(ratings.shape[0]):\n",
    "    \n",
    "        if len(train[user,:].nonzero()[0]) >= MIN_USER_RATINGS:\n",
    "            # if this user has rated more than MIN_USER_RATINGS=35 movies\n",
    "            # delete DELETE_RATING_COUNT=15 of the ratings\n",
    "            val_ratings = np.random.choice(\n",
    "                ratings[user, :].nonzero()[0], \n",
    "                size=int(DELETE_RATING_COUNT_PROPORTION*len(ratings[user,:].nonzero()[0])),\n",
    "                replace=False\n",
    "            )\n",
    "            train[user, val_ratings] = 0\n",
    "            validation[user, val_ratings] = ratings[user, val_ratings]\n",
    "\n",
    "    return train, validation, test\n",
    "\n"
   ]
  },
  {
   "cell_type": "code",
   "execution_count": 22,
   "metadata": {},
   "outputs": [
    {
     "name": "stdout",
     "output_type": "stream",
     "text": [
      "ratings shape (69878, 10677)  number of nonzero: 9905065\n",
      "training shape (69878, 10677)  number of nonzero: 7239933\n",
      "validation shape (69878, 10677)  number of nonzero: 1719720\n",
      "test shape (69878, 10677)  number of nonzero: 981615\n"
     ]
    }
   ],
   "source": [
    "train, val, test = train_test_split(user_item_matrix)\n",
    "print(\"ratings shape\", user_item_matrix.shape, \" number of nonzero:\", np.count_nonzero(user_item_matrix))\n",
    "print(\"training shape\", train.shape, \" number of nonzero:\", np.count_nonzero(train))\n",
    "print(\"validation shape\", val.shape, \" number of nonzero:\", np.count_nonzero(val))\n",
    "print(\"test shape\", test.shape, \" number of nonzero:\", np.count_nonzero(test))"
   ]
  },
  {
   "cell_type": "code",
   "execution_count": 23,
   "metadata": {
    "editable": true,
    "slideshow": {
     "slide_type": ""
    },
    "tags": []
   },
   "outputs": [],
   "source": [
    "from math import sqrt\n",
    "def rmse(prediction, ground_truth):\n",
    "    prediction = prediction[ground_truth.nonzero()].flatten() \n",
    "    ground_truth = ground_truth[ground_truth.nonzero()].flatten()\n",
    "    return sqrt(mean_squared_error(prediction, ground_truth))"
   ]
  },
  {
   "cell_type": "markdown",
   "metadata": {},
   "source": [
    "## Matrix Factorization"
   ]
  },
  {
   "cell_type": "code",
   "execution_count": 24,
   "metadata": {
    "editable": true,
    "slideshow": {
     "slide_type": ""
    },
    "tags": []
   },
   "outputs": [],
   "source": [
    "\n",
    "class Recommender:\n",
    "  \n",
    "  def __init__(self, n_epochs=200, n_latent_features=3, lmbda=0.1, learning_rate=0.01):\n",
    "    self.n_epochs = n_epochs\n",
    "    self.n_latent_features = n_latent_features\n",
    "    self.lmbda = lmbda\n",
    "    self.learning_rate = learning_rate\n",
    "  \n",
    "  def predictions(self, P, Q):\n",
    "    return np.dot(P.T, Q)\n",
    "  \n",
    "  def fit(self, X_train, X_val):\n",
    "    m, n = X_train.shape\n",
    "\n",
    "    self.P = 3 * np.random.rand(self.n_latent_features, m)\n",
    "    self.Q = 3 * np.random.rand(self.n_latent_features, n)\n",
    "    \n",
    "    self.train_error = []\n",
    "    self.val_error = []\n",
    "\n",
    "    users, items = X_train.nonzero()\n",
    "    \n",
    "    for epoch in range(self.n_epochs):\n",
    "      \n",
    "        for u, i in zip(users, items):       \n",
    "            error = X_train[u, i] - self.predictions(self.P[:,u], self.Q[:,i])\n",
    "            self.P[:, u] += self.learning_rate * (error * self.Q[:, i] - self.lmbda * self.P[:, u])\n",
    "            self.Q[:, i] += self.learning_rate * (error * self.P[:, u] - self.lmbda * self.Q[:, i])\n",
    "\n",
    "        train_rmse = rmse(self.predictions(self.P, self.Q), X_train)\n",
    "        val_rmse = rmse(self.predictions(self.P, self.Q), X_val)\n",
    "        self.train_error.append(train_rmse)\n",
    "        self.val_error.append(val_rmse)\n",
    "        \n",
    "        print(\"Now the epoch number is:\", epoch)\n",
    "        print(\"The RMSE of training set is: \", self.train_error[-1])\n",
    "        print(\"The RMSE of validation set is: \", self.val_error[-1])\n",
    "        print(\" \")\n",
    "    \n",
    "    return self\n",
    "\n",
    "    \n",
    "  \n",
    "  def predict(self, X_train, user_index):\n",
    "    y_hat = self.predictions(self.P, self.Q)\n",
    "    predictions_index = np.where(X_train[user_index, :] == 0)[0]\n",
    " \n",
    "    return y_hat[user_index, predictions_index].flatten()"
   ]
  },
  {
   "cell_type": "code",
   "execution_count": 25,
   "metadata": {
    "editable": true,
    "slideshow": {
     "slide_type": ""
    },
    "tags": []
   },
   "outputs": [
    {
     "name": "stdout",
     "output_type": "stream",
     "text": [
      "Now the epoch number is: 0\n",
      "The RMSE of training set is:  0.43541819118556374\n",
      "The RMSE of validation set is:  0.4865742026111709\n",
      " \n"
     ]
    },
    {
     "name": "stderr",
     "output_type": "stream",
     "text": [
      "IOStream.flush timed out\n"
     ]
    },
    {
     "name": "stdout",
     "output_type": "stream",
     "text": [
      "Now the epoch number is: 1\n",
      "The RMSE of training set is:  0.3736379258651081\n",
      "The RMSE of validation set is:  0.41417289846961014\n",
      " \n",
      "Now the epoch number is: 2\n",
      "The RMSE of training set is:  0.3471216613801027\n",
      "The RMSE of validation set is:  0.3813058754578572\n",
      " \n",
      "Now the epoch number is: 3\n",
      "The RMSE of training set is:  0.3294216488699514\n",
      "The RMSE of validation set is:  0.3590762583783267\n",
      " \n",
      "Now the epoch number is: 4\n",
      "The RMSE of training set is:  0.3155080511069523\n",
      "The RMSE of validation set is:  0.34175107271547955\n",
      " \n"
     ]
    },
    {
     "name": "stderr",
     "output_type": "stream",
     "text": [
      "IOStream.flush timed out\n"
     ]
    },
    {
     "name": "stdout",
     "output_type": "stream",
     "text": [
      "Now the epoch number is: 5\n",
      "The RMSE of training set is:  0.30369422867033513\n",
      "The RMSE of validation set is:  0.32736614557059607\n",
      " \n",
      "Now the epoch number is: 6\n",
      "The RMSE of training set is:  0.29326972573614574\n",
      "The RMSE of validation set is:  0.315058530790682\n",
      " \n",
      "Now the epoch number is: 7\n",
      "The RMSE of training set is:  0.28389011145298537\n",
      "The RMSE of validation set is:  0.304374656057221\n",
      " \n",
      "Now the epoch number is: 8\n",
      "The RMSE of training set is:  0.2753720697521234\n",
      "The RMSE of validation set is:  0.2950383574084489\n",
      " \n",
      "Now the epoch number is: 9\n",
      "The RMSE of training set is:  0.26761074426324327\n",
      "The RMSE of validation set is:  0.286858776916691\n",
      " \n",
      "Now the epoch number is: 10\n",
      "The RMSE of training set is:  0.2605420291954944\n",
      "The RMSE of validation set is:  0.2796905096767077\n",
      " \n",
      "Now the epoch number is: 11\n",
      "The RMSE of training set is:  0.25412354570463497\n",
      "The RMSE of validation set is:  0.273415445044239\n",
      " \n",
      "Now the epoch number is: 12\n",
      "The RMSE of training set is:  0.24832409446310671\n",
      "The RMSE of validation set is:  0.2679338656858156\n",
      " \n",
      "Now the epoch number is: 13\n",
      "The RMSE of training set is:  0.24311737660563126\n",
      "The RMSE of validation set is:  0.2631595351735628\n",
      " \n",
      "Now the epoch number is: 14\n",
      "The RMSE of training set is:  0.23847815197457395\n",
      "The RMSE of validation set is:  0.25901657446618515\n",
      " \n",
      "Now the epoch number is: 15\n",
      "The RMSE of training set is:  0.23437993990563186\n",
      "The RMSE of validation set is:  0.25543723005975216\n",
      " \n",
      "Now the epoch number is: 16\n",
      "The RMSE of training set is:  0.23079375349958667\n",
      "The RMSE of validation set is:  0.25236018158546447\n",
      " \n",
      "Now the epoch number is: 17\n",
      "The RMSE of training set is:  0.22768755186385836\n",
      "The RMSE of validation set is:  0.24972926499907602\n",
      " \n",
      "Now the epoch number is: 18\n",
      "The RMSE of training set is:  0.22502621647726032\n",
      "The RMSE of validation set is:  0.24749257373562492\n",
      " \n",
      "Now the epoch number is: 19\n",
      "The RMSE of training set is:  0.2227719340790143\n",
      "The RMSE of validation set is:  0.24560191309581283\n",
      " \n",
      "Now the epoch number is: 20\n",
      "The RMSE of training set is:  0.22088490237774241\n",
      "The RMSE of validation set is:  0.24401255972909602\n",
      " \n",
      "Now the epoch number is: 21\n",
      "The RMSE of training set is:  0.2193242742807874\n",
      "The RMSE of validation set is:  0.24268324644727832\n",
      " \n",
      "Now the epoch number is: 22\n",
      "The RMSE of training set is:  0.2180492384412393\n",
      "The RMSE of validation set is:  0.24157627279645524\n",
      " \n",
      "Now the epoch number is: 23\n",
      "The RMSE of training set is:  0.21702011863621462\n",
      "The RMSE of validation set is:  0.24065764287823177\n",
      " \n",
      "Now the epoch number is: 24\n",
      "The RMSE of training set is:  0.21619937599424285\n",
      "The RMSE of validation set is:  0.2398971521601008\n",
      " \n",
      "Now the epoch number is: 25\n",
      "The RMSE of training set is:  0.21555242016183263\n",
      "The RMSE of validation set is:  0.23926837604909948\n",
      " \n"
     ]
    },
    {
     "name": "stderr",
     "output_type": "stream",
     "text": [
      "IOStream.flush timed out\n",
      "IOStream.flush timed out\n"
     ]
    },
    {
     "name": "stdout",
     "output_type": "stream",
     "text": [
      "Now the epoch number is: 26\n",
      "The RMSE of training set is:  0.21504817246083344\n",
      "The RMSE of validation set is:  0.23874854493764458\n",
      " \n",
      "Now the epoch number is: 27\n",
      "The RMSE of training set is:  0.21465936549347597\n",
      "The RMSE of validation set is:  0.23831831584672805\n",
      " \n",
      "Now the epoch number is: 28\n",
      "The RMSE of training set is:  0.21436259953698034\n",
      "The RMSE of validation set is:  0.23796146631640464\n",
      " \n",
      "Now the epoch number is: 29\n",
      "The RMSE of training set is:  0.21413820031652106\n",
      "The RMSE of validation set is:  0.23766454205342244\n",
      " \n",
      "Now the epoch number is: 30\n",
      "The RMSE of training set is:  0.21396993385711208\n",
      "The RMSE of validation set is:  0.23741648841864046\n",
      " \n",
      "Now the epoch number is: 31\n",
      "The RMSE of training set is:  0.21384463410181842\n",
      "The RMSE of validation set is:  0.23720829015470316\n",
      " \n",
      "Now the epoch number is: 32\n",
      "The RMSE of training set is:  0.21375179154964133\n",
      "The RMSE of validation set is:  0.2370326364810168\n",
      " \n",
      "Now the epoch number is: 33\n",
      "The RMSE of training set is:  0.2136831401323149\n",
      "The RMSE of validation set is:  0.23688362166069787\n",
      " \n",
      "Now the epoch number is: 34\n",
      "The RMSE of training set is:  0.2136322679209342\n",
      "The RMSE of validation set is:  0.23675648536565805\n",
      " \n",
      "Now the epoch number is: 35\n",
      "The RMSE of training set is:  0.21359426691925054\n",
      "The RMSE of validation set is:  0.23664739296557893\n",
      " \n",
      "Now the epoch number is: 36\n",
      "The RMSE of training set is:  0.21356542904115106\n",
      "The RMSE of validation set is:  0.23655325316671758\n",
      " \n",
      "Now the epoch number is: 37\n",
      "The RMSE of training set is:  0.21354298954600862\n",
      "The RMSE of validation set is:  0.23647156895010646\n",
      " \n",
      "Now the epoch number is: 38\n",
      "The RMSE of training set is:  0.21352491546124355\n",
      "The RMSE of validation set is:  0.23640031717401594\n",
      " \n",
      "Now the epoch number is: 39\n",
      "The RMSE of training set is:  0.21350973442225182\n",
      "The RMSE of validation set is:  0.23633785220789913\n",
      " \n",
      "Now the epoch number is: 40\n",
      "The RMSE of training set is:  0.2134963984470003\n",
      "The RMSE of validation set is:  0.2362828293114634\n",
      " \n",
      "Now the epoch number is: 41\n",
      "The RMSE of training set is:  0.2134841770338906\n",
      "The RMSE of validation set is:  0.23623414398784448\n",
      " \n",
      "Now the epoch number is: 42\n",
      "The RMSE of training set is:  0.21347257431203692\n",
      "The RMSE of validation set is:  0.23619088410840322\n",
      " \n",
      "Now the epoch number is: 43\n",
      "The RMSE of training set is:  0.21346126555636263\n",
      "The RMSE of validation set is:  0.23615229215886588\n",
      " \n",
      "Now the epoch number is: 44\n",
      "The RMSE of training set is:  0.21345004905480455\n",
      "The RMSE of validation set is:  0.2361177354554887\n",
      " \n",
      "Now the epoch number is: 45\n",
      "The RMSE of training set is:  0.21343880998832368\n",
      "The RMSE of validation set is:  0.23608668261024934\n",
      " \n",
      "Now the epoch number is: 46\n",
      "The RMSE of training set is:  0.21342749360470475\n",
      "The RMSE of validation set is:  0.23605868488334747\n",
      " \n",
      "Now the epoch number is: 47\n",
      "The RMSE of training set is:  0.2134160855101891\n",
      "The RMSE of validation set is:  0.2360333613543054\n",
      " \n",
      "Now the epoch number is: 48\n",
      "The RMSE of training set is:  0.21340459736202164\n",
      "The RMSE of validation set is:  0.2360103870777871\n",
      " \n",
      "Now the epoch number is: 49\n",
      "The RMSE of training set is:  0.21339305662310512\n",
      "The RMSE of validation set is:  0.23598948357600308\n",
      " \n",
      "The RMSE of training set is:  0.21339305662310512\n",
      "The RMSE of validation set is:  0.23598948357600308\n"
     ]
    }
   ],
   "source": [
    "recommender = Recommender(n_epochs = 50, n_latent_features = 3).fit(train, val)\n",
    "print(\"The RMSE of training set is: \", recommender.train_error[-1])\n",
    "print(\"The RMSE of validation set is: \", recommender.val_error[-1])\n",
    "\n",
    " \n",
    "\n",
    "\n"
   ]
  },
  {
   "cell_type": "code",
   "execution_count": 26,
   "metadata": {
    "editable": true,
    "slideshow": {
     "slide_type": ""
    },
    "tags": []
   },
   "outputs": [
    {
     "data": {
      "image/png": "[encoded data removed]",
      "text/plain": [
       "<Figure size 640x480 with 1 Axes>"
      ]
     },
     "metadata": {},
     "output_type": "display_data"
    }
   ],
   "source": [
    "import matplotlib.pyplot as plt\n",
    "import matplotlib.ticker as ticker\n",
    "%matplotlib inline\n",
    "plt.plot(range(recommender.n_epochs), recommender.train_error, marker='o', label='Training Data')\n",
    "plt.plot(range(recommender.n_epochs), recommender.val_error, marker='v', label='Validation Data')\n",
    "plt.xlabel('Number of Epochs')\n",
    "plt.ylabel('RMSE')\n",
    "plt.legend()\n",
    "plt.grid()\n",
    "plt.show()"
   ]
  },
  {
   "cell_type": "markdown",
   "metadata": {},
   "source": [
    "## AUC score of the CTR task"
   ]
  },
  {
   "cell_type": "code",
   "execution_count": 27,
   "metadata": {},
   "outputs": [
    {
     "name": "stdout",
     "output_type": "stream",
     "text": [
      "2.018040015781522\n",
      "0.6866433959294583\n",
      "(981615,)\n",
      "(981615,)\n",
      "The auc score is 0.5305842439432419\n"
     ]
    }
   ],
   "source": [
    "from sklearn.metrics import roc_auc_score\n",
    "def map_to_CTR(matrix, nonzero):\n",
    "    CTR = matrix[nonzero].flatten()\n",
    "    #thres_hold = 0.8*(CTR.max()-CTR.min())\n",
    "    #print(thres_hold)\n",
    "    for i in range(len(CTR)):\n",
    "        #if CTR[i] - CTR.min()  >= thres_hold: \n",
    "        if CTR[i] >= 0.8:\n",
    "            CTR[i] = 1\n",
    "\n",
    "        else:\n",
    "            CTR[i] = 0\n",
    "\n",
    "    return CTR\n",
    "\n",
    "print(recommender.predictions(recommender.P, recommender.Q)[test.nonzero()].mean())\n",
    "CTR_predicted_rating = map_to_CTR(recommender.predictions(recommender.P, recommender.Q),nonzero = test.nonzero())\n",
    "\n",
    "\n",
    "print(test[test.nonzero()].mean())\n",
    "CTR_test_rating = map_to_CTR(test, nonzero = test.nonzero())\n",
    "\n",
    "print(CTR_predicted_rating.shape)\n",
    "print(CTR_test_rating.shape)\n",
    "\n",
    "\n",
    "auc_score =  roc_auc_score(CTR_test_rating, CTR_predicted_rating)\n",
    "print(\"The auc score is\", auc_score)"
   ]
  },
  {
   "cell_type": "markdown",
   "metadata": {},
   "source": [
    "# Making recommendations"
   ]
  },
  {
   "cell_type": "code",
   "execution_count": null,
   "metadata": {},
   "outputs": [],
   "source": [
    "user_id = 101\n",
    "user_index = user_id_list.index(user_id)\n",
    "\n",
    "predictions_index = np.where(train[user_index, :] == 0)[0]\n",
    "print(len(predictions_index))\n",
    "rating_predictions = recommender.predict(train, user_index)\n",
    "rating_predictions.shape"
   ]
  },
  {
   "cell_type": "code",
   "execution_count": null,
   "metadata": {},
   "outputs": [],
   "source": [
    "movies = pd.read_csv('movies.dat', sep='::' )\n",
    "movies.columns = ['id','name', 'genres']\n",
    "\n",
    "def create_movies_ratings(movies_df, movies_index, ratings, n=10):\n",
    "  movie_ids = rating_dataset.item_id[movies_index]\n",
    "  \n",
    "  movie_ratings = pd.DataFrame(data=dict(id=movie_ids, rating=ratings))\n",
    "  top_n_movies = movie_ratings.sort_values(\"rating\", ascending=False).head(n)\n",
    "  print(top_n_movies)\n",
    "  # movie_recommendations = movies_df[movies_df.id.isin(top_n_movies.movieId)]\\\n",
    "  #   .reset_index(drop=True)\n",
    "  # movie_recommendations['rating'] = pd.Series(top_n_movies.rating.values)\n",
    "  movie_recommendations = movies_df.merge(top_n_movies, how = 'inner', on = 'id')\n",
    "  return movie_recommendations.sort_values(\"rating\", ascending=False)"
   ]
  },
  {
   "cell_type": "code",
   "execution_count": null,
   "metadata": {},
   "outputs": [],
   "source": [
    "\n",
    "create_movies_ratings(movies, predictions_index, rating_predictions)"
   ]
  },
  {
   "cell_type": "code",
   "execution_count": null,
   "metadata": {},
   "outputs": [],
   "source": []
  },
  {
   "cell_type": "code",
   "execution_count": null,
   "metadata": {},
   "outputs": [],
   "source": []
  }
 ],
 "metadata": {
  "kernelspec": {
   "display_name": "Python 3 (ipykernel)",
   "language": "python",
   "name": "python3"
  },
  "language_info": {
   "codemirror_mode": {
    "name": "ipython",
    "version": 3
   },
   "file_extension": ".py",
   "mimetype": "text/x-python",
   "name": "python",
   "nbconvert_exporter": "python",
   "pygments_lexer": "ipython3",
   "version": "3.10.12"
  }
 },
 "nbformat": 4,
 "nbformat_minor": 4
}
